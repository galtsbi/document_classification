{
 "cells": [
  {
   "cell_type": "markdown",
   "metadata": {},
   "source": [
    "# Задание 6. Классификация новостей\n",
    "\n",
    "### Данные\n",
    "Данные в [архиве](https://drive.google.com/file/d/15o7fdxTgndoy6K-e7g8g1M2-bOOwqZPl/view?usp=sharing). В нём два файла:\n",
    "- `news_train.txt` тестовое множество\n",
    "- `news_test.txt` тренировочное множество\n",
    "\n",
    "С некоторых новостных сайтов были загружены тексты новостей за период  несколько лет, причем каждая новость принаделжит к какой-то рубрике: `science`, `style`, `culture`, `life`, `economics`, `business`, `travel`, `forces`, `media`, `sport`.\n",
    "\n",
    "В каждой строке файла содержится метка рубрики, заголовок новостной статьи и сам текст статьи, например:\n",
    "\n",
    ">    **sport**&nbsp;&lt;tab&gt;&nbsp;**Сборная Канады по хоккею разгромила чехов**&nbsp;&lt;tab&gt;&nbsp;**Сборная Канады по хоккею крупно об...**"
   ]
  },
  {
   "cell_type": "code",
   "execution_count": 1,
   "metadata": {},
   "outputs": [],
   "source": [
    "import pandas as pd"
   ]
  },
  {
   "cell_type": "code",
   "execution_count": 2,
   "metadata": {},
   "outputs": [],
   "source": [
    "train = pd.read_csv('./news1/news_train.txt', delimiter = \"\\t\", header=None)"
   ]
  },
  {
   "cell_type": "code",
   "execution_count": 3,
   "metadata": {},
   "outputs": [],
   "source": [
    "train.columns = ['topic', 'title', 'text']"
   ]
  },
  {
   "cell_type": "code",
   "execution_count": 4,
   "metadata": {},
   "outputs": [],
   "source": [
    "res = []\n",
    "for topic in train['topic']:\n",
    "    if topic == 'science':\n",
    "        topic = 0\n",
    "    elif topic == 'style':\n",
    "        topic = 1\n",
    "    elif topic == 'culture':\n",
    "        topic = 2\n",
    "    elif topic == 'life':\n",
    "        topic = 3\n",
    "    elif topic == 'economics':\n",
    "        topic = 4\n",
    "    elif topic == 'business':\n",
    "        topic = 5\n",
    "    elif topic == 'travel':\n",
    "        topic = 6\n",
    "    elif topic == 'forces':\n",
    "        topic = 7\n",
    "    elif topic == 'media':\n",
    "        topic = 8\n",
    "    elif topic == 'sport':\n",
    "        topic = 9\n",
    "    res.append(topic)\n",
    "train[\"topic\"] = res"
   ]
  },
  {
   "cell_type": "code",
   "execution_count": 5,
   "metadata": {},
   "outputs": [
    {
     "data": {
      "text/html": [
       "<div>\n",
       "<style scoped>\n",
       "    .dataframe tbody tr th:only-of-type {\n",
       "        vertical-align: middle;\n",
       "    }\n",
       "\n",
       "    .dataframe tbody tr th {\n",
       "        vertical-align: top;\n",
       "    }\n",
       "\n",
       "    .dataframe thead th {\n",
       "        text-align: right;\n",
       "    }\n",
       "</style>\n",
       "<table border=\"1\" class=\"dataframe\">\n",
       "  <thead>\n",
       "    <tr style=\"text-align: right;\">\n",
       "      <th></th>\n",
       "      <th>topic</th>\n",
       "      <th>title</th>\n",
       "      <th>text</th>\n",
       "    </tr>\n",
       "  </thead>\n",
       "  <tbody>\n",
       "    <tr>\n",
       "      <th>0</th>\n",
       "      <td>9</td>\n",
       "      <td>Овечкин пожертвовал детской хоккейной школе ав...</td>\n",
       "      <td>Нападающий «Вашингтон Кэпиталз» Александр Овеч...</td>\n",
       "    </tr>\n",
       "    <tr>\n",
       "      <th>1</th>\n",
       "      <td>2</td>\n",
       "      <td>Рекордно дорогую статую майя признали подделкой</td>\n",
       "      <td>Власти Мексики объявили подделкой статую майя,...</td>\n",
       "    </tr>\n",
       "    <tr>\n",
       "      <th>2</th>\n",
       "      <td>0</td>\n",
       "      <td>Samsung представила флагман в защищенном корпусе</td>\n",
       "      <td>Южнокорейская Samsung анонсировала защищенную ...</td>\n",
       "    </tr>\n",
       "    <tr>\n",
       "      <th>3</th>\n",
       "      <td>9</td>\n",
       "      <td>С футболиста «Спартака» сняли четырехматчевую ...</td>\n",
       "      <td>Контрольно-дисциплинарный комитет (КДК) РФС сн...</td>\n",
       "    </tr>\n",
       "    <tr>\n",
       "      <th>4</th>\n",
       "      <td>8</td>\n",
       "      <td>Hopes &amp; Fears объединится с The Village</td>\n",
       "      <td>Интернет-издание Hopes &amp; Fears объявило о свое...</td>\n",
       "    </tr>\n",
       "    <tr>\n",
       "      <th>...</th>\n",
       "      <td>...</td>\n",
       "      <td>...</td>\n",
       "      <td>...</td>\n",
       "    </tr>\n",
       "    <tr>\n",
       "      <th>14995</th>\n",
       "      <td>3</td>\n",
       "      <td>Составлен рейтинг лучших европейских пляжей 20...</td>\n",
       "      <td>Опубликован рейтинг лучших европейских пляжей ...</td>\n",
       "    </tr>\n",
       "    <tr>\n",
       "      <th>14996</th>\n",
       "      <td>8</td>\n",
       "      <td>В «Снобе» объяснили причину смены формата</td>\n",
       "      <td>Генеральный директор «Сноб медиа» Марина Гевор...</td>\n",
       "    </tr>\n",
       "    <tr>\n",
       "      <th>14997</th>\n",
       "      <td>4</td>\n",
       "      <td>Минфин предложил штрафовать за биткоины на 50 ...</td>\n",
       "      <td>Минфин разработал законопроект, устанавливающи...</td>\n",
       "    </tr>\n",
       "    <tr>\n",
       "      <th>14998</th>\n",
       "      <td>3</td>\n",
       "      <td>Мэл Гибсон заплатит бывшей подруге 750 тысяч д...</td>\n",
       "      <td>Актер и режиссер Мэл Гибсон выплатит своей быв...</td>\n",
       "    </tr>\n",
       "    <tr>\n",
       "      <th>14999</th>\n",
       "      <td>8</td>\n",
       "      <td>Еще на двух линиях московского метро заработал...</td>\n",
       "      <td>На Серпуховско-Тимирязевской и Бутовской линия...</td>\n",
       "    </tr>\n",
       "  </tbody>\n",
       "</table>\n",
       "<p>15000 rows × 3 columns</p>\n",
       "</div>"
      ],
      "text/plain": [
       "       topic                                              title  \\\n",
       "0          9  Овечкин пожертвовал детской хоккейной школе ав...   \n",
       "1          2    Рекордно дорогую статую майя признали подделкой   \n",
       "2          0   Samsung представила флагман в защищенном корпусе   \n",
       "3          9  С футболиста «Спартака» сняли четырехматчевую ...   \n",
       "4          8            Hopes & Fears объединится с The Village   \n",
       "...      ...                                                ...   \n",
       "14995      3  Составлен рейтинг лучших европейских пляжей 20...   \n",
       "14996      8          В «Снобе» объяснили причину смены формата   \n",
       "14997      4  Минфин предложил штрафовать за биткоины на 50 ...   \n",
       "14998      3  Мэл Гибсон заплатит бывшей подруге 750 тысяч д...   \n",
       "14999      8  Еще на двух линиях московского метро заработал...   \n",
       "\n",
       "                                                    text  \n",
       "0      Нападающий «Вашингтон Кэпиталз» Александр Овеч...  \n",
       "1      Власти Мексики объявили подделкой статую майя,...  \n",
       "2      Южнокорейская Samsung анонсировала защищенную ...  \n",
       "3      Контрольно-дисциплинарный комитет (КДК) РФС сн...  \n",
       "4      Интернет-издание Hopes & Fears объявило о свое...  \n",
       "...                                                  ...  \n",
       "14995  Опубликован рейтинг лучших европейских пляжей ...  \n",
       "14996  Генеральный директор «Сноб медиа» Марина Гевор...  \n",
       "14997  Минфин разработал законопроект, устанавливающи...  \n",
       "14998  Актер и режиссер Мэл Гибсон выплатит своей быв...  \n",
       "14999  На Серпуховско-Тимирязевской и Бутовской линия...  \n",
       "\n",
       "[15000 rows x 3 columns]"
      ]
     },
     "execution_count": 5,
     "metadata": {},
     "output_type": "execute_result"
    }
   ],
   "source": [
    "train"
   ]
  },
  {
   "cell_type": "code",
   "execution_count": 6,
   "metadata": {},
   "outputs": [],
   "source": [
    "test = pd.read_csv('./news1/news_test.txt', delimiter = \"\\t\", header=None)"
   ]
  },
  {
   "cell_type": "code",
   "execution_count": 7,
   "metadata": {},
   "outputs": [],
   "source": [
    "test.columns = ['topic', 'title', 'text']"
   ]
  },
  {
   "cell_type": "code",
   "execution_count": 8,
   "metadata": {},
   "outputs": [],
   "source": [
    "res = []\n",
    "for topic in test['topic']:\n",
    "    if topic == 'science':\n",
    "        topic = 0\n",
    "    elif topic == 'style':\n",
    "        topic = 1\n",
    "    elif topic == 'culture':\n",
    "        topic = 2\n",
    "    elif topic == 'life':\n",
    "        topic = 3\n",
    "    elif topic == 'economics':\n",
    "        topic = 4\n",
    "    elif topic == 'business':\n",
    "        topic = 5\n",
    "    elif topic == 'travel':\n",
    "        topic = 6\n",
    "    elif topic == 'forces':\n",
    "        topic = 7\n",
    "    elif topic == 'media':\n",
    "        topic = 8\n",
    "    elif topic == 'sport':\n",
    "        topic = 9\n",
    "    res.append(topic)\n",
    "test[\"topic\"] = res"
   ]
  },
  {
   "cell_type": "code",
   "execution_count": 9,
   "metadata": {},
   "outputs": [
    {
     "data": {
      "text/html": [
       "<div>\n",
       "<style scoped>\n",
       "    .dataframe tbody tr th:only-of-type {\n",
       "        vertical-align: middle;\n",
       "    }\n",
       "\n",
       "    .dataframe tbody tr th {\n",
       "        vertical-align: top;\n",
       "    }\n",
       "\n",
       "    .dataframe thead th {\n",
       "        text-align: right;\n",
       "    }\n",
       "</style>\n",
       "<table border=\"1\" class=\"dataframe\">\n",
       "  <thead>\n",
       "    <tr style=\"text-align: right;\">\n",
       "      <th></th>\n",
       "      <th>topic</th>\n",
       "      <th>title</th>\n",
       "      <th>text</th>\n",
       "    </tr>\n",
       "  </thead>\n",
       "  <tbody>\n",
       "    <tr>\n",
       "      <th>0</th>\n",
       "      <td>2</td>\n",
       "      <td>Жительница Ямала победила в первом песенном ко...</td>\n",
       "      <td>Жительница Ямало-Ненецкого автономного округа ...</td>\n",
       "    </tr>\n",
       "    <tr>\n",
       "      <th>1</th>\n",
       "      <td>8</td>\n",
       "      <td>Почти половина Twitter-пользователей никогда н...</td>\n",
       "      <td>Около 44 процентов из всех зарегистрированных ...</td>\n",
       "    </tr>\n",
       "    <tr>\n",
       "      <th>2</th>\n",
       "      <td>8</td>\n",
       "      <td>Билайн начал рекламу роуминга под песенку \"Тро...</td>\n",
       "      <td>В новой рекламной кампании мобильного оператор...</td>\n",
       "    </tr>\n",
       "    <tr>\n",
       "      <th>3</th>\n",
       "      <td>5</td>\n",
       "      <td>Saipem потеряла 1,2 миллиарда евро из-за отмен...</td>\n",
       "      <td>Дочерняя структура итальянского нефтегазового ...</td>\n",
       "    </tr>\n",
       "    <tr>\n",
       "      <th>4</th>\n",
       "      <td>2</td>\n",
       "      <td>Вин Дизель назвал «Форсаж 7» достойным «Оскара»</td>\n",
       "      <td>Актер Вин Дизель заявил, что боевик «Форсаж 7»...</td>\n",
       "    </tr>\n",
       "    <tr>\n",
       "      <th>...</th>\n",
       "      <td>...</td>\n",
       "      <td>...</td>\n",
       "      <td>...</td>\n",
       "    </tr>\n",
       "    <tr>\n",
       "      <th>2995</th>\n",
       "      <td>0</td>\n",
       "      <td>Причиной \"влажного\" климата Титана оказались м...</td>\n",
       "      <td>Ученые прояснили причины \"влажного\" климата Ти...</td>\n",
       "    </tr>\n",
       "    <tr>\n",
       "      <th>2996</th>\n",
       "      <td>3</td>\n",
       "      <td>Британка нашла геккона в пакете с брокколи</td>\n",
       "      <td>Жительница Великобритании нашла геккона в паке...</td>\n",
       "    </tr>\n",
       "    <tr>\n",
       "      <th>2997</th>\n",
       "      <td>5</td>\n",
       "      <td>Владелец «Мечела» предложил закрыть в России в...</td>\n",
       "      <td>Совладелец горно-металлургического холдинга «М...</td>\n",
       "    </tr>\n",
       "    <tr>\n",
       "      <th>2998</th>\n",
       "      <td>0</td>\n",
       "      <td>Nokia выпустит ОС для бюджетных смартфонов</td>\n",
       "      <td>Компания Nokia разрабатывает операционную сист...</td>\n",
       "    </tr>\n",
       "    <tr>\n",
       "      <th>2999</th>\n",
       "      <td>3</td>\n",
       "      <td>В Калифорнии появилось радио для собак и кошек</td>\n",
       "      <td>В Лос-Анджелесе вещает радиостанция для домашн...</td>\n",
       "    </tr>\n",
       "  </tbody>\n",
       "</table>\n",
       "<p>3000 rows × 3 columns</p>\n",
       "</div>"
      ],
      "text/plain": [
       "      topic                                              title  \\\n",
       "0         2  Жительница Ямала победила в первом песенном ко...   \n",
       "1         8  Почти половина Twitter-пользователей никогда н...   \n",
       "2         8  Билайн начал рекламу роуминга под песенку \"Тро...   \n",
       "3         5  Saipem потеряла 1,2 миллиарда евро из-за отмен...   \n",
       "4         2    Вин Дизель назвал «Форсаж 7» достойным «Оскара»   \n",
       "...     ...                                                ...   \n",
       "2995      0  Причиной \"влажного\" климата Титана оказались м...   \n",
       "2996      3         Британка нашла геккона в пакете с брокколи   \n",
       "2997      5  Владелец «Мечела» предложил закрыть в России в...   \n",
       "2998      0         Nokia выпустит ОС для бюджетных смартфонов   \n",
       "2999      3     В Калифорнии появилось радио для собак и кошек   \n",
       "\n",
       "                                                   text  \n",
       "0     Жительница Ямало-Ненецкого автономного округа ...  \n",
       "1     Около 44 процентов из всех зарегистрированных ...  \n",
       "2     В новой рекламной кампании мобильного оператор...  \n",
       "3     Дочерняя структура итальянского нефтегазового ...  \n",
       "4     Актер Вин Дизель заявил, что боевик «Форсаж 7»...  \n",
       "...                                                 ...  \n",
       "2995  Ученые прояснили причины \"влажного\" климата Ти...  \n",
       "2996  Жительница Великобритании нашла геккона в паке...  \n",
       "2997  Совладелец горно-металлургического холдинга «М...  \n",
       "2998  Компания Nokia разрабатывает операционную сист...  \n",
       "2999  В Лос-Анджелесе вещает радиостанция для домашн...  \n",
       "\n",
       "[3000 rows x 3 columns]"
      ]
     },
     "execution_count": 9,
     "metadata": {},
     "output_type": "execute_result"
    }
   ],
   "source": [
    "test"
   ]
  },
  {
   "cell_type": "code",
   "execution_count": 10,
   "metadata": {},
   "outputs": [],
   "source": [
    "train['content'] = train['title'] + \" \" + train['text']"
   ]
  },
  {
   "cell_type": "code",
   "execution_count": 11,
   "metadata": {},
   "outputs": [
    {
     "data": {
      "text/plain": [
       "0        Овечкин пожертвовал детской хоккейной школе ав...\n",
       "1        Рекордно дорогую статую майя признали подделко...\n",
       "2        Samsung представила флагман в защищенном корпу...\n",
       "3        С футболиста «Спартака» сняли четырехматчевую ...\n",
       "4        Hopes & Fears объединится с The Village Интерн...\n",
       "                               ...                        \n",
       "14995    Составлен рейтинг лучших европейских пляжей 20...\n",
       "14996    В «Снобе» объяснили причину смены формата Гене...\n",
       "14997    Минфин предложил штрафовать за биткоины на 50 ...\n",
       "14998    Мэл Гибсон заплатит бывшей подруге 750 тысяч д...\n",
       "14999    Еще на двух линиях московского метро заработал...\n",
       "Name: content, Length: 15000, dtype: object"
      ]
     },
     "execution_count": 11,
     "metadata": {},
     "output_type": "execute_result"
    }
   ],
   "source": [
    "train['content']"
   ]
  },
  {
   "cell_type": "code",
   "execution_count": 12,
   "metadata": {},
   "outputs": [],
   "source": [
    "test['content'] = test['title'] + \" \" + test['text']"
   ]
  },
  {
   "cell_type": "code",
   "execution_count": 13,
   "metadata": {},
   "outputs": [
    {
     "data": {
      "text/plain": [
       "0       Жительница Ямала победила в первом песенном ко...\n",
       "1       Почти половина Twitter-пользователей никогда н...\n",
       "2       Билайн начал рекламу роуминга под песенку \"Тро...\n",
       "3       Saipem потеряла 1,2 миллиарда евро из-за отмен...\n",
       "4       Вин Дизель назвал «Форсаж 7» достойным «Оскара...\n",
       "                              ...                        \n",
       "2995    Причиной \"влажного\" климата Титана оказались м...\n",
       "2996    Британка нашла геккона в пакете с брокколи Жит...\n",
       "2997    Владелец «Мечела» предложил закрыть в России в...\n",
       "2998    Nokia выпустит ОС для бюджетных смартфонов Ком...\n",
       "2999    В Калифорнии появилось радио для собак и кошек...\n",
       "Name: content, Length: 3000, dtype: object"
      ]
     },
     "execution_count": 13,
     "metadata": {},
     "output_type": "execute_result"
    }
   ],
   "source": [
    "test['content']"
   ]
  },
  {
   "cell_type": "markdown",
   "metadata": {},
   "source": [
    "## Задание 6.1 \n",
    "\n",
    "Обработать данные, получив для каждого текста набор токенов\n",
    "Обработать токены с помощью (один вариант из трех):\n",
    "\n",
    "- pymorphy2\n",
    "- русского [snowball стеммера](https://www.nltk.org/howto/stem.html)\n",
    "- [SentencePiece](https://github.com/google/sentencepiece) или [Huggingface Tokenizers](https://github.com/huggingface/tokenizers)"
   ]
  },
  {
   "cell_type": "code",
   "execution_count": 24,
   "metadata": {},
   "outputs": [],
   "source": [
    "from nltk.stem.snowball import SnowballStemmer\n",
    "from nltk.corpus import stopwords\n",
    "import re"
   ]
  },
  {
   "cell_type": "code",
   "execution_count": 25,
   "metadata": {},
   "outputs": [],
   "source": [
    "import nltk"
   ]
  },
  {
   "cell_type": "code",
   "execution_count": 26,
   "metadata": {},
   "outputs": [],
   "source": [
    "stemmer = SnowballStemmer('russian')"
   ]
  },
  {
   "cell_type": "code",
   "execution_count": 27,
   "metadata": {},
   "outputs": [],
   "source": [
    "def stemming(content):\n",
    "    review = re.sub('[^а-яА-Я]',' ',content)\n",
    "    review = review.lower()\n",
    "    review = review.split()\n",
    "    review = [stemmer.stem(word) for word in review if not word in stopwords.words('russian')]\n",
    "    review = ' '.join(review)\n",
    "    return review"
   ]
  },
  {
   "cell_type": "code",
   "execution_count": 33,
   "metadata": {},
   "outputs": [],
   "source": [
    "train['content'] = train['content'].apply(stemming)"
   ]
  },
  {
   "cell_type": "code",
   "execution_count": 34,
   "metadata": {},
   "outputs": [
    {
     "data": {
      "text/plain": [
       "0        овечкин пожертвова детск хоккейн школ автомоби...\n",
       "1        рекордн дорог стат май призна подделк власт ме...\n",
       "2        представ флагма защищен корпус южнокорейск ано...\n",
       "3        футболист спартак снял четырехматчев дисквалиф...\n",
       "4        объедин интернет издан объяв сво слиян сайт оф...\n",
       "                               ...                        \n",
       "14995    составл рейтинг лучш европейск пляж год опубли...\n",
       "14996    сноб объясн причин смен формат генеральн дирек...\n",
       "14997    минфин предлож штрафова биткоин тысяч рубл мин...\n",
       "14998    мэл гибсон заплат бывш подруг тысяч доллар акт...\n",
       "14999    двух лин московск метр заработа серпуховск тим...\n",
       "Name: content, Length: 15000, dtype: object"
      ]
     },
     "execution_count": 34,
     "metadata": {},
     "output_type": "execute_result"
    }
   ],
   "source": [
    "train['content']"
   ]
  },
  {
   "cell_type": "code",
   "execution_count": 35,
   "metadata": {},
   "outputs": [],
   "source": [
    "from nltk.tokenize import word_tokenize"
   ]
  },
  {
   "cell_type": "code",
   "execution_count": 36,
   "metadata": {},
   "outputs": [],
   "source": [
    "train['content'] = [word_tokenize(sent) for sent in train['content']]"
   ]
  },
  {
   "cell_type": "code",
   "execution_count": 37,
   "metadata": {},
   "outputs": [
    {
     "data": {
      "text/plain": [
       "0        [овечкин, пожертвова, детск, хоккейн, школ, ав...\n",
       "1        [рекордн, дорог, стат, май, призна, подделк, в...\n",
       "2        [представ, флагма, защищен, корпус, южнокорейс...\n",
       "3        [футболист, спартак, снял, четырехматчев, диск...\n",
       "4        [объедин, интернет, издан, объяв, сво, слиян, ...\n",
       "                               ...                        \n",
       "14995    [составл, рейтинг, лучш, европейск, пляж, год,...\n",
       "14996    [сноб, объясн, причин, смен, формат, генеральн...\n",
       "14997    [минфин, предлож, штрафова, биткоин, тысяч, ру...\n",
       "14998    [мэл, гибсон, заплат, бывш, подруг, тысяч, дол...\n",
       "14999    [двух, лин, московск, метр, заработа, серпухов...\n",
       "Name: content, Length: 15000, dtype: object"
      ]
     },
     "execution_count": 37,
     "metadata": {},
     "output_type": "execute_result"
    }
   ],
   "source": [
    "train['content']"
   ]
  },
  {
   "cell_type": "markdown",
   "metadata": {},
   "source": [
    "## Задание 6.2\n",
    "\n",
    "Обучить word embeddings (fastText, word2vec, gloVe) на тренировочных данных. Можно использовать [gensim](https://radimrehurek.com/gensim/models/word2vec.html) . Продемонстрировать семантические ассоциации. "
   ]
  },
  {
   "cell_type": "code",
   "execution_count": 105,
   "metadata": {},
   "outputs": [],
   "source": [
    "from gensim.models.word2vec import Word2Vec"
   ]
  },
  {
   "cell_type": "code",
   "execution_count": 106,
   "metadata": {},
   "outputs": [],
   "source": [
    "model = Word2Vec(train['content'], min_count = 1)"
   ]
  },
  {
   "cell_type": "code",
   "execution_count": 107,
   "metadata": {},
   "outputs": [
    {
     "data": {
      "text/plain": [
       "[('малкин', 0.9671331644058228),\n",
       " ('питтсбург', 0.9656885862350464),\n",
       " ('пингвинс', 0.9553080797195435),\n",
       " ('самед', 0.951301634311676),\n",
       " ('монреал', 0.9485220909118652),\n",
       " ('кэпиталс', 0.9462345242500305),\n",
       " ('ойлерс', 0.9452365040779114),\n",
       " ('испанец', 0.9440320134162903),\n",
       " ('заброс', 0.9417774081230164),\n",
       " ('буллит', 0.9394224882125854)]"
      ]
     },
     "execution_count": 107,
     "metadata": {},
     "output_type": "execute_result"
    }
   ],
   "source": [
    "model.wv.most_similar('овечкин')"
   ]
  },
  {
   "cell_type": "code",
   "execution_count": 108,
   "metadata": {},
   "outputs": [
    {
     "data": {
      "text/plain": [
       "[('мужчин', 0.8749622702598572),\n",
       " ('дет', 0.8656841516494751),\n",
       " ('родител', 0.8452386260032654),\n",
       " ('подростк', 0.8437126874923706),\n",
       " ('собак', 0.799551784992218),\n",
       " ('девочк', 0.7985441088676453),\n",
       " ('детьм', 0.7848915457725525),\n",
       " ('люд', 0.7845929861068726),\n",
       " ('девушк', 0.7845717668533325),\n",
       " ('животн', 0.7829656600952148)]"
      ]
     },
     "execution_count": 108,
     "metadata": {},
     "output_type": "execute_result"
    }
   ],
   "source": [
    "model.wv.most_similar('женщин')"
   ]
  },
  {
   "cell_type": "code",
   "execution_count": 109,
   "metadata": {},
   "outputs": [
    {
     "data": {
      "text/plain": [
       "[('елизавет', 0.8633838295936584),\n",
       " ('принцесс', 0.86141037940979),\n",
       " ('герцогин', 0.847679853439331),\n",
       " ('уильям', 0.8410214185714722),\n",
       " ('принц', 0.8396910429000854),\n",
       " ('браун', 0.8359851241111755),\n",
       " ('кембриджск', 0.8211702108383179),\n",
       " ('уилсон', 0.8197375535964966),\n",
       " ('сестр', 0.8192713856697083),\n",
       " ('кейт', 0.812752366065979)]"
      ]
     },
     "execution_count": 109,
     "metadata": {},
     "output_type": "execute_result"
    }
   ],
   "source": [
    "model.wv.most_similar(positive=['королев', 'мужчин'], negative=['женщин'])"
   ]
  },
  {
   "cell_type": "markdown",
   "metadata": {},
   "source": [
    "## Задание 6.3\n",
    "\n",
    "Реализовать алгоритм классификации документа по категориям, посчитать точноть на тестовых данных, подобрать гиперпараметры. Метод векторизации выбрать произвольно - можно использовать $tf-idf$ с понижением размерности (см. scikit-learn), можно использовать обученные на предыдущем шаге векторные представления, можно использовать [предобученные модели](https://rusvectores.org/ru/models/). Имейте ввиду, что простое \"усреднение\" токенов в тексте скорее всего не даст положительных результатов. Нужно реализовать два алгоритмов из трех:\n",
    "- SVM\n",
    "- наивный байесовский классификатор\n",
    "- логистическая регрессия\n",
    "    "
   ]
  },
  {
   "cell_type": "code",
   "execution_count": 14,
   "metadata": {},
   "outputs": [],
   "source": [
    "train['content'] = train['title'] + \" \" + train['text']"
   ]
  },
  {
   "cell_type": "code",
   "execution_count": 15,
   "metadata": {},
   "outputs": [
    {
     "data": {
      "text/plain": [
       "0        Овечкин пожертвовал детской хоккейной школе ав...\n",
       "1        Рекордно дорогую статую майя признали подделко...\n",
       "2        Samsung представила флагман в защищенном корпу...\n",
       "3        С футболиста «Спартака» сняли четырехматчевую ...\n",
       "4        Hopes & Fears объединится с The Village Интерн...\n",
       "                               ...                        \n",
       "14995    Составлен рейтинг лучших европейских пляжей 20...\n",
       "14996    В «Снобе» объяснили причину смены формата Гене...\n",
       "14997    Минфин предложил штрафовать за биткоины на 50 ...\n",
       "14998    Мэл Гибсон заплатит бывшей подруге 750 тысяч д...\n",
       "14999    Еще на двух линиях московского метро заработал...\n",
       "Name: content, Length: 15000, dtype: object"
      ]
     },
     "execution_count": 15,
     "metadata": {},
     "output_type": "execute_result"
    }
   ],
   "source": [
    "train['content']"
   ]
  },
  {
   "cell_type": "code",
   "execution_count": 18,
   "metadata": {},
   "outputs": [],
   "source": [
    "import numpy as np"
   ]
  },
  {
   "cell_type": "code",
   "execution_count": 19,
   "metadata": {},
   "outputs": [],
   "source": [
    "corpus_text = np.array([sent.lower() for sent in train['content']] + [sent.lower() for sent in test['content']])"
   ]
  },
  {
   "cell_type": "code",
   "execution_count": 28,
   "metadata": {},
   "outputs": [],
   "source": [
    "corpus_text = [stemming(sent) for sent in corpus_text]"
   ]
  },
  {
   "cell_type": "code",
   "execution_count": 30,
   "metadata": {},
   "outputs": [
    {
     "data": {
      "text/plain": [
       "['овечкин пожертвова детск хоккейн школ автомобил напада вашингтон кэпиталз александр овечкин переда детск хоккейн школ автомобил получен окончан матч звезд национальн хоккейн лиг нхл сообща официальн сайт лиг автомобил подар хоккеист решен спонсор мероприят игрок нхл пожертвова машин спортивн школ котор располож штат вирджин овечкин обща летн девочк ан шоб синдром даун котор занима школ явля поклонниц спортсм сентябр форвард пообеда вмест юн хоккеистк японск ресторан матч звезд нхл коламбус штат огай заверш побед команд джоната тэйвз команд ник фолин счет овечкин выступа проигра коллект россиянин отмет трем результативн передач',\n",
       " 'рекордн дорог стат май призна подделк власт мексик объяв подделк стат май прода недел аукцион париж рекордн сумм миллион евр сообща министерств иностра дел национальн институт антрополог истор выступ совместн заявлен утвержд стату относ одн доколумбов культур центральн америк утвержда произведен относ позднеклассическ период май е год однак учен обнаруж стату характерн черт либ конкретн культур времен все видим автор подделк пыта воспроизвест стил индейц май север восток мексик однак размер стату положен ног фигур изображен обув характерн археолог алехандр кастил алехандр баутист вальдеспин заяв изображен воин топор щит скор созда недавн год посольств мексик уведом власт франц сантиметров скульптур част собран швейцарск бизнесм генр ло куп анонимн коллекционер европ лот стал сам дорог аукцион тех торг выруч миллион евр отмеча результат предпродажн экспертиз проведен мексиканск учен стал известн произведен коллекц ло оказа подделк как образ сомнительн стату попа торг сообща']"
      ]
     },
     "execution_count": 30,
     "metadata": {},
     "output_type": "execute_result"
    }
   ],
   "source": [
    "corpus_text[:2]"
   ]
  },
  {
   "cell_type": "markdown",
   "metadata": {},
   "source": [
    "**TF-IDF + PCA**"
   ]
  },
  {
   "cell_type": "code",
   "execution_count": 46,
   "metadata": {},
   "outputs": [],
   "source": [
    "from sklearn.feature_extraction.text import TfidfVectorizer"
   ]
  },
  {
   "cell_type": "code",
   "execution_count": 47,
   "metadata": {},
   "outputs": [],
   "source": [
    "vectorizer = TfidfVectorizer()"
   ]
  },
  {
   "cell_type": "code",
   "execution_count": 48,
   "metadata": {},
   "outputs": [],
   "source": [
    "from sklearn.decomposition import PCA, TruncatedSVD"
   ]
  },
  {
   "cell_type": "code",
   "execution_count": 49,
   "metadata": {},
   "outputs": [],
   "source": [
    "pca = TruncatedSVD(n_components=128, random_state=42)"
   ]
  },
  {
   "cell_type": "markdown",
   "metadata": {},
   "source": [
    "Производительности моего компьютера не хватает на обучение PCA, поэтому матрица загружена из файла (обучение PCA производилось на более мощном компьютере)."
   ]
  },
  {
   "cell_type": "code",
   "execution_count": 50,
   "metadata": {},
   "outputs": [],
   "source": [
    "# X = pca.fit_transform(vectorizer.fit_transform(corpus_text).toarray())"
   ]
  },
  {
   "cell_type": "code",
   "execution_count": 51,
   "metadata": {},
   "outputs": [],
   "source": [
    "X = np.load('./PCA.npy')"
   ]
  },
  {
   "cell_type": "markdown",
   "metadata": {},
   "source": [
    "**SVM**"
   ]
  },
  {
   "cell_type": "code",
   "execution_count": 52,
   "metadata": {},
   "outputs": [],
   "source": [
    "from sklearn.svm import SVC"
   ]
  },
  {
   "cell_type": "code",
   "execution_count": 53,
   "metadata": {},
   "outputs": [
    {
     "data": {
      "text/plain": [
       "SVC(gamma='auto', kernel='linear')"
      ]
     },
     "execution_count": 53,
     "metadata": {},
     "output_type": "execute_result"
    }
   ],
   "source": [
    "SVM = SVC(C=1.0, kernel='linear', gamma='auto')\n",
    "SVM.fit(X[:15000], train['topic'])"
   ]
  },
  {
   "cell_type": "code",
   "execution_count": 54,
   "metadata": {},
   "outputs": [],
   "source": [
    "from sklearn.metrics import accuracy_score"
   ]
  },
  {
   "cell_type": "code",
   "execution_count": 56,
   "metadata": {},
   "outputs": [
    {
     "name": "stdout",
     "output_type": "stream",
     "text": [
      "SVM accuracy Score on test data:  0.8553333333333333\n"
     ]
    }
   ],
   "source": [
    "predictions_SVM = SVM.predict(X[15000:])\n",
    "print(\"SVM accuracy Score on test data: \",accuracy_score(predictions_SVM, test['topic']))"
   ]
  },
  {
   "cell_type": "markdown",
   "metadata": {},
   "source": [
    "**Логистическая регрессия**"
   ]
  },
  {
   "cell_type": "code",
   "execution_count": 57,
   "metadata": {},
   "outputs": [],
   "source": [
    "from sklearn.linear_model import LogisticRegression"
   ]
  },
  {
   "cell_type": "code",
   "execution_count": 58,
   "metadata": {},
   "outputs": [],
   "source": [
    "LR = LogisticRegression()"
   ]
  },
  {
   "cell_type": "code",
   "execution_count": 61,
   "metadata": {},
   "outputs": [
    {
     "name": "stderr",
     "output_type": "stream",
     "text": [
      "C:\\Users\\User\\anaconda3\\lib\\site-packages\\sklearn\\linear_model\\_logistic.py:762: ConvergenceWarning: lbfgs failed to converge (status=1):\n",
      "STOP: TOTAL NO. of ITERATIONS REACHED LIMIT.\n",
      "\n",
      "Increase the number of iterations (max_iter) or scale the data as shown in:\n",
      "    https://scikit-learn.org/stable/modules/preprocessing.html\n",
      "Please also refer to the documentation for alternative solver options:\n",
      "    https://scikit-learn.org/stable/modules/linear_model.html#logistic-regression\n",
      "  n_iter_i = _check_optimize_result(\n"
     ]
    },
    {
     "data": {
      "text/plain": [
       "LogisticRegression()"
      ]
     },
     "execution_count": 61,
     "metadata": {},
     "output_type": "execute_result"
    }
   ],
   "source": [
    "LR.fit(X[:15000], train['topic'])"
   ]
  },
  {
   "cell_type": "code",
   "execution_count": 66,
   "metadata": {},
   "outputs": [
    {
     "name": "stdout",
     "output_type": "stream",
     "text": [
      "Logistic Regression accuracy Score on test data:  0.854\n"
     ]
    }
   ],
   "source": [
    "predictions_LR = LR.predict(X[15000:])\n",
    "print(\"Logistic Regression accuracy Score on test data: \",accuracy_score(predictions_LR, test['topic']))"
   ]
  },
  {
   "cell_type": "markdown",
   "metadata": {},
   "source": [
    "## Задание 6.4* \n",
    "\n",
    "Реализуйте классификацию с помощью нейросетевых моделей. Например [RuBERT](http://docs.deeppavlov.ai/en/master/features/models/bert.html) или [ELMo](https://rusvectores.org/ru/models/)."
   ]
  },
  {
   "cell_type": "markdown",
   "metadata": {},
   "source": []
  }
 ],
 "metadata": {
  "kernelspec": {
   "display_name": "Python 3",
   "language": "python",
   "name": "python3"
  },
  "language_info": {
   "codemirror_mode": {
    "name": "ipython",
    "version": 3
   },
   "file_extension": ".py",
   "mimetype": "text/x-python",
   "name": "python",
   "nbconvert_exporter": "python",
   "pygments_lexer": "ipython3",
   "version": "3.8.3"
  },
  "vscode": {
   "interpreter": {
    "hash": "916dbcbb3f70747c44a77c7bcd40155683ae19c65e1c03b4aa3499c5328201f1"
   }
  }
 },
 "nbformat": 4,
 "nbformat_minor": 4
}
