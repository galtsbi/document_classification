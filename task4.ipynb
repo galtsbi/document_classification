{
 "cells": [
  {
   "cell_type": "markdown",
   "metadata": {},
   "source": [
    "# Задание 3. Линейная регрессия"
   ]
  },
  {
   "cell_type": "markdown",
   "metadata": {},
   "source": [
    "Данные содержатся в файле `data/lin_reg.txt`. Прочитать их можно следующим так:"
   ]
  },
  {
   "cell_type": "code",
   "execution_count": 82,
   "metadata": {},
   "outputs": [],
   "source": [
    "import numpy as np\n",
    "D = np.loadtxt('../data/lin_reg.txt', delimiter=',')\n",
    "X = D[:, :-1]\n",
    "Y = D[:, -1]"
   ]
  },
  {
   "cell_type": "markdown",
   "metadata": {},
   "source": [
    "При выполнении заданий **нельзя** пользоваться `scikit-learn` и т.п., только `NumPy`/`JAX`/`TF`/`PyTorch` и `matplotlib`/`seaborn`/`plotly`/etc.\n",
    "\n",
    "1. Нарисуйте график среднеквадратичной ошибки в зависимости от параметра регуляризации $\\alpha$, используя полные данные для обучения и для тестирования. \n",
    "2. Подготовьте исходные данные для 5 fold CV.\n",
    "3. С помощью CV найдите оптимальное значение $\\alpha$ на какой-нибудь сетке значений.\n",
    "4. Постройте валидационную кривую. \n",
    "5. Постройте кривую обучения."
   ]
  },
  {
   "cell_type": "markdown",
   "metadata": {},
   "source": [
    "### Задание 1."
   ]
  },
  {
   "cell_type": "markdown",
   "metadata": {},
   "source": [
    "Нарисуйте график среднеквадратичной ошибки в зависимости от параметра регуляризации  𝛼 , используя полные данные для обучения и для тестирования."
   ]
  },
  {
   "cell_type": "code",
   "execution_count": 83,
   "metadata": {},
   "outputs": [
    {
     "name": "stdout",
     "output_type": "stream",
     "text": [
      "[[  9.31  -17.043  20.807  11.109]\n",
      " [ -6.446 -12.46  -12.941 -14.715]\n",
      " [ 14.324  -9.624  29.533   1.439]\n",
      " ...\n",
      " [  3.56    2.063   7.302  -7.817]\n",
      " [ 11.841 -14.315  23.148  11.777]\n",
      " [ -3.345 -15.219  -4.751  -1.141]]\n"
     ]
    }
   ],
   "source": [
    "print(X)"
   ]
  },
  {
   "cell_type": "code",
   "execution_count": 84,
   "metadata": {},
   "outputs": [
    {
     "name": "stdout",
     "output_type": "stream",
     "text": [
      "(1000, 4)\n"
     ]
    }
   ],
   "source": [
    "print(np.shape(X))"
   ]
  },
  {
   "cell_type": "code",
   "execution_count": 85,
   "metadata": {},
   "outputs": [
    {
     "name": "stdout",
     "output_type": "stream",
     "text": [
      "(1000,)\n"
     ]
    }
   ],
   "source": [
    "print(np.shape(Y))"
   ]
  },
  {
   "cell_type": "code",
   "execution_count": 86,
   "metadata": {},
   "outputs": [],
   "source": [
    "def solve(alpha):\n",
    "    theta = np.linalg.inv(X.T @ X + alpha * np.identity(4)) @ X.T @ Y\n",
    "    Y1 = X @ theta\n",
    "    MSE = np.sum((Y - Y1) ** 2) / len(Y-Y1)\n",
    "    return MSE"
   ]
  },
  {
   "cell_type": "code",
   "execution_count": 87,
   "metadata": {},
   "outputs": [
    {
     "data": {
      "text/plain": [
       "[<matplotlib.lines.Line2D at 0x1d11bb69b80>]"
      ]
     },
     "execution_count": 87,
     "metadata": {},
     "output_type": "execute_result"
    },
    {
     "data": {
      "image/png": "[encoded data removed]",
      "text/plain": [
       "<Figure size 576x432 with 1 Axes>"
      ]
     },
     "metadata": {
      "needs_background": "light"
     },
     "output_type": "display_data"
    }
   ],
   "source": [
    "import matplotlib.pyplot as plt\n",
    "\n",
    "plt.figure(figsize = (8,6))\n",
    "Alpha = np.linspace(0, 100, 1000)\n",
    "Solve = [solve(alpha) for alpha in Alpha]\n",
    "\n",
    "plt.plot(Alpha, Solve)"
   ]
  },
  {
   "cell_type": "markdown",
   "metadata": {},
   "source": [
    "### Задание 2."
   ]
  },
  {
   "cell_type": "markdown",
   "metadata": {},
   "source": [
    "Подготовьте исходные данные для 5 fold CV."
   ]
  },
  {
   "cell_type": "code",
   "execution_count": 88,
   "metadata": {},
   "outputs": [],
   "source": [
    "def fold(X, Y):\n",
    "    \n",
    "    train = []\n",
    "    train_labels = []\n",
    "\n",
    "    test = []\n",
    "    test_labels = []\n",
    "\n",
    "    step = int(len(X) / 5)\n",
    "    indx = 0\n",
    "\n",
    "    for i in range(5):\n",
    "        test.append(X[indx:indx+step])\n",
    "        test_labels.append(Y[indx:indx+step])\n",
    "        train.append(np.concatenate([X[0:indx], X[indx+step:]]))\n",
    "        train_labels.append(np.concatenate([Y[0:indx], Y[indx+step:]]))\n",
    "        indx += step\n",
    "\n",
    "    train = np.array(train)\n",
    "    train_labels = np.array(train_labels)\n",
    "    test = np.array(test)\n",
    "    test_labels = np.array(test_labels)\n",
    "        \n",
    "    return [train, train_labels, test, test_labels]"
   ]
  },
  {
   "cell_type": "code",
   "execution_count": 89,
   "metadata": {},
   "outputs": [],
   "source": [
    "train, train_labels, test, test_labels = fold(X,Y)"
   ]
  },
  {
   "cell_type": "code",
   "execution_count": 90,
   "metadata": {},
   "outputs": [
    {
     "name": "stdout",
     "output_type": "stream",
     "text": [
      "(5, 800, 4)\n",
      "(5, 200, 4)\n",
      "(5, 800)\n",
      "(5, 200)\n"
     ]
    }
   ],
   "source": [
    "print(np.shape(train))\n",
    "print(np.shape(test))\n",
    "print(np.shape(train_labels))\n",
    "print(np.shape(test_labels))"
   ]
  },
  {
   "cell_type": "markdown",
   "metadata": {},
   "source": [
    "### Задание 3."
   ]
  },
  {
   "cell_type": "markdown",
   "metadata": {},
   "source": [
    "С помощью CV найдите оптимальное значение  𝛼  на какой-нибудь сетке значений."
   ]
  },
  {
   "cell_type": "code",
   "execution_count": 91,
   "metadata": {},
   "outputs": [],
   "source": [
    "def solve(alpha, X, Y, X_test, Y_test):\n",
    "    theta = np.linalg.inv(X.T @ X + alpha * np.identity(4)) @ X.T @ Y\n",
    "    Y_pred = X_test @ theta\n",
    "    MSE = np.sum((Y_test - Y_pred) ** 2) / len(Y_test-Y_pred)\n",
    "    return MSE"
   ]
  },
  {
   "cell_type": "code",
   "execution_count": 92,
   "metadata": {},
   "outputs": [],
   "source": [
    "def linearRegression(train, test, train_labels, test_labels):\n",
    "    valid_vals = []\n",
    "    train_vals = []\n",
    "    Alpha = np.linspace(0, 100, 1000)\n",
    "        \n",
    "    for alpha in Alpha:\n",
    "        Solve = [solve(alpha, train[i], train_labels[i], test[i], test_labels[i]) for i in range(5)]\n",
    "        trainSolve = [solve(alpha, train[i], train_labels[i], train[i], train_labels[i]) for i in range(5)]\n",
    "        valid_vals.append(np.sum(Solve) / len(Solve))\n",
    "        train_vals.append(np.sum(trainSolve) / len(trainSolve))\n",
    "    \n",
    "    return [np.array(valid_vals), np.array(train_vals)]"
   ]
  },
  {
   "cell_type": "code",
   "execution_count": 93,
   "metadata": {},
   "outputs": [],
   "source": [
    "res = linearRegression(train, test, train_labels, test_labels)"
   ]
  },
  {
   "cell_type": "code",
   "execution_count": 94,
   "metadata": {},
   "outputs": [],
   "source": [
    "valid_vals = res[0]"
   ]
  },
  {
   "cell_type": "code",
   "execution_count": 95,
   "metadata": {},
   "outputs": [
    {
     "name": "stdout",
     "output_type": "stream",
     "text": [
      "Min MSE:  96.41829738717855\n",
      "Alpha minimizing MSE:  3.9039039039039043\n"
     ]
    }
   ],
   "source": [
    "min_MSE = valid_vals[valid_vals.argmin()]\n",
    "min_alpha = Alpha[valid_vals.argmin()]\n",
    "\n",
    "print('Min MSE: ', min_MSE)\n",
    "print('Alpha minimizing MSE: ', min_alpha)"
   ]
  },
  {
   "cell_type": "markdown",
   "metadata": {},
   "source": [
    "### Задание 4."
   ]
  },
  {
   "cell_type": "markdown",
   "metadata": {},
   "source": [
    "Постройте валидационную кривую."
   ]
  },
  {
   "cell_type": "code",
   "execution_count": 96,
   "metadata": {},
   "outputs": [],
   "source": [
    "train_vals = res[1]"
   ]
  },
  {
   "cell_type": "code",
   "execution_count": 97,
   "metadata": {},
   "outputs": [
    {
     "data": {
      "text/plain": [
       "<matplotlib.legend.Legend at 0x1d11cc0c9d0>"
      ]
     },
     "execution_count": 97,
     "metadata": {},
     "output_type": "execute_result"
    },
    {
     "data": {
      "image/png": "[encoded data removed]",
      "text/plain": [
       "<Figure size 576x504 with 1 Axes>"
      ]
     },
     "metadata": {
      "needs_background": "light"
     },
     "output_type": "display_data"
    }
   ],
   "source": [
    "plt.figure(figsize = (8,7))\n",
    "plt.plot(Alpha, valid_vals, label='validation')\n",
    "plt.plot(Alpha, train_vals, 'g', label='training')\n",
    "plt.legend()"
   ]
  },
  {
   "cell_type": "markdown",
   "metadata": {},
   "source": [
    "### Задание 5."
   ]
  },
  {
   "cell_type": "markdown",
   "metadata": {},
   "source": [
    "Постройте кривую обучения."
   ]
  },
  {
   "cell_type": "code",
   "execution_count": 98,
   "metadata": {},
   "outputs": [],
   "source": [
    "def learningCurve(X, Y):\n",
    "    \n",
    "    alpha = 3.9\n",
    "    \n",
    "    test = X[100:]\n",
    "    test_labels = Y[100:]\n",
    "    \n",
    "    train_size = np.arange(50,1050,50)\n",
    "    train_vals = []   \n",
    "    valid_vals = []\n",
    "    \n",
    "    for size in train_size:\n",
    "        \n",
    "        train = X[:size]\n",
    "        train_labels = Y[:size]\n",
    "        \n",
    "        valid_vals.append(solve(alpha, train, train_labels, test, test_labels))\n",
    "        train_vals.append(solve(alpha, train, train_labels, train, train_labels))\n",
    "        \n",
    "    return [np.array(train_vals), np.array(valid_vals)]"
   ]
  },
  {
   "cell_type": "code",
   "execution_count": 99,
   "metadata": {},
   "outputs": [],
   "source": [
    "res = learningCurve(X, Y)\n",
    "\n",
    "train_vals = res[0]\n",
    "valid_vals = res[1]"
   ]
  },
  {
   "cell_type": "code",
   "execution_count": 100,
   "metadata": {},
   "outputs": [
    {
     "data": {
      "text/plain": [
       "<matplotlib.legend.Legend at 0x1d11cc71640>"
      ]
     },
     "execution_count": 100,
     "metadata": {},
     "output_type": "execute_result"
    },
    {
     "data": {
      "image/png": "[encoded data removed]",
      "text/plain": [
       "<Figure size 648x504 with 1 Axes>"
      ]
     },
     "metadata": {
      "needs_background": "light"
     },
     "output_type": "display_data"
    }
   ],
   "source": [
    "plt.figure(figsize = (9,7))\n",
    "plt.plot(train_size, train_vals,'g', label='train')\n",
    "plt.plot(train_size, valid_vals, label='validation')\n",
    "plt.legend()"
   ]
  }
 ],
 "metadata": {
  "kernelspec": {
   "display_name": "Python 3",
   "language": "python",
   "name": "python3"
  },
  "language_info": {
   "codemirror_mode": {
    "name": "ipython",
    "version": 3
   },
   "file_extension": ".py",
   "mimetype": "text/x-python",
   "name": "python",
   "nbconvert_exporter": "python",
   "pygments_lexer": "ipython3",
   "version": "3.8.3"
  },
  "vscode": {
   "interpreter": {
    "hash": "916dbcbb3f70747c44a77c7bcd40155683ae19c65e1c03b4aa3499c5328201f1"
   }
  }
 },
 "nbformat": 4,
 "nbformat_minor": 4
}
