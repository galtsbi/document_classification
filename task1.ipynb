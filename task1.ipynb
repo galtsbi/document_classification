{
 "cells": [
  {
   "cell_type": "markdown",
   "metadata": {},
   "source": [
    "# Задание 1.1\n",
    "\n",
    "[Свертка списка](https://ru.wikipedia.org/wiki/%D0%A1%D0%B2%D1%91%D1%80%D1%82%D0%BA%D0%B0_%D1%81%D0%BF%D0%B8%D1%81%D0%BA%D0%B0) -  это обобщенная операция над списком, c помощью которой можно преобразовать список в единое значение. Например, рассмотрим реализации свертки слева и свертки справа (левоассоциативную свертку и правоассоциативную свертку):"
   ]
  },
  {
   "cell_type": "code",
   "execution_count": 3,
   "metadata": {
    "jupyter": {
     "outputs_hidden": true
    }
   },
   "outputs": [],
   "source": [
    "def foldl(f, x0, lst):\n",
    "    if not lst:\n",
    "        return x0\n",
    "    return foldl(f, f(x0, lst[0]), lst[1:])\n",
    "\n",
    "def foldr(f, x0, lst):\n",
    "    if not lst:\n",
    "        return x0\n",
    "    return f(lst[0], foldr(f, x0, lst[1:]))"
   ]
  },
  {
   "cell_type": "code",
   "execution_count": 4,
   "metadata": {},
   "outputs": [
    {
     "data": {
      "text/plain": [
       "6"
      ]
     },
     "execution_count": 4,
     "metadata": {},
     "output_type": "execute_result"
    }
   ],
   "source": [
    "#сумма\n",
    "foldl(lambda x, y: x + y, 0, [1, 2, 3])"
   ]
  },
  {
   "cell_type": "code",
   "execution_count": 5,
   "metadata": {},
   "outputs": [
    {
     "data": {
      "text/plain": [
       "'123'"
      ]
     },
     "execution_count": 5,
     "metadata": {},
     "output_type": "execute_result"
    }
   ],
   "source": [
    "#конкатенация\n",
    "foldl(lambda x, y: '{}{}'.format(x, y), '', [1, 2, 3])"
   ]
  },
  {
   "cell_type": "code",
   "execution_count": 6,
   "metadata": {},
   "outputs": [
    {
     "data": {
      "text/plain": [
       "(0.16666666666666666, 1.5)"
      ]
     },
     "execution_count": 6,
     "metadata": {},
     "output_type": "execute_result"
    }
   ],
   "source": [
    "f = lambda x, y: x / y\n",
    "foldl(f, 1, [1, 2, 3]), \\\n",
    "foldr(f, 1, [1, 2, 3])"
   ]
  },
  {
   "cell_type": "markdown",
   "metadata": {},
   "source": [
    "Задача: реализовать foldl через foldr и наоборот. Вместо многоточий нужно вставить выражения, которые бы привели к нужному результату. Модифицировать сам список нельзя. "
   ]
  },
  {
   "cell_type": "markdown",
   "metadata": {},
   "source": [
    "#### Решение"
   ]
  },
  {
   "cell_type": "code",
   "execution_count": 7,
   "metadata": {},
   "outputs": [],
   "source": [
    "def foldl2(f, x0, lst):\n",
    "    return foldr(lambda a, b: lambda n: b(f(n, a)), lambda x: x, lst)(x0)\n",
    "\n",
    "def foldr2(f, x0, lst):\n",
    "    return foldl(lambda b, a: lambda n: b(f(a, n)), lambda x: x, lst)(x0)"
   ]
  },
  {
   "cell_type": "code",
   "execution_count": 8,
   "metadata": {},
   "outputs": [
    {
     "data": {
      "text/plain": [
       "6"
      ]
     },
     "execution_count": 8,
     "metadata": {},
     "output_type": "execute_result"
    }
   ],
   "source": [
    "#сумма\n",
    "foldl2(lambda x, y: x + y, 0, [1, 2, 3])"
   ]
  },
  {
   "cell_type": "code",
   "execution_count": 9,
   "metadata": {},
   "outputs": [
    {
     "data": {
      "text/plain": [
       "'123'"
      ]
     },
     "execution_count": 9,
     "metadata": {},
     "output_type": "execute_result"
    }
   ],
   "source": [
    "#конкатенация\n",
    "foldl2(lambda x, y: '{}{}'.format(x, y), '', [1, 2, 3])"
   ]
  },
  {
   "cell_type": "code",
   "execution_count": 10,
   "metadata": {},
   "outputs": [
    {
     "data": {
      "text/plain": [
       "(0.16666666666666666, 1.5)"
      ]
     },
     "execution_count": 10,
     "metadata": {},
     "output_type": "execute_result"
    }
   ],
   "source": [
    "f = lambda x, y: x / y\n",
    "foldl2(f, 1, [1, 2, 3]), \\\n",
    "foldr2(f, 1, [1, 2, 3])"
   ]
  },
  {
   "cell_type": "markdown",
   "metadata": {},
   "source": [
    "# Задание 1.2\n",
    "\n",
    "нужно написать функцию, которая принимает две строки и проверяет, входит ли хотя бы одна перестановка второй строки в первую. Например:\n",
    "\n",
    "> a = 'abcrotm'\n",
    "> \n",
    "> b = 'tro'\n",
    "\n",
    "функция def check_inv(a, b) вернет True, так как 'rot' содержится в 'abcrotm'. Нужно подумать как можно более оптимальный алгоритм и оценить его сложность. "
   ]
  },
  {
   "cell_type": "code",
   "execution_count": 589,
   "metadata": {},
   "outputs": [],
   "source": [
    "from collections import Counter\n",
    "\n",
    "\"\"\"\n",
    "Время: O(n), где n = len(a)\n",
    "Память: O(1) - a_Counter и b_Counter могут иметь максимум 33 пары ключ-значение (А-Я)\n",
    "\"\"\"\n",
    "\n",
    "def check_inv(a,b):\n",
    "    \n",
    "    m = len(b)\n",
    "    b_Counter = Counter(b)              #Создание хэша для строки b\n",
    "    \n",
    "    win_a = a[:m]                       # Создание хэша cтроки a длины m\n",
    "    a_Counter = Counter(win_a)\n",
    " \n",
    "    if b_Counter == a_Counter:\n",
    "        return True\n",
    "\n",
    "    for i in range(len(a)-m):\n",
    "\n",
    "        if a_Counter[a[i]] == 1:        # Если символ в хэше один, то удаляем пару\n",
    "            del a_Counter[a[i]]\n",
    "        elif a_Counter[a[i]] > 1:       # Иначе - уменьшаем значение на единицу\n",
    "            a_Counter[a[i]] -= 1\n",
    "\n",
    "        if a[i+m] in a_Counter:         # Если сивол в хэше уже есть, то увеличиваем значение на единицу\n",
    "            a_Counter[a[i+m]] += 1\n",
    "        else:\n",
    "            a_Counter[a[i+m]] = 1       # Иначе присваем значение = 1\n",
    "\n",
    "        if a_Counter == b_Counter:      \n",
    "            return True\n",
    "\n",
    "    return False"
   ]
  },
  {
   "cell_type": "code",
   "execution_count": 590,
   "metadata": {},
   "outputs": [],
   "source": [
    "a = \"abcrotm\"\n",
    "b = \"tro\""
   ]
  },
  {
   "cell_type": "code",
   "execution_count": 591,
   "metadata": {},
   "outputs": [
    {
     "data": {
      "text/plain": [
       "True"
      ]
     },
     "execution_count": 591,
     "metadata": {},
     "output_type": "execute_result"
    }
   ],
   "source": [
    "check_inv(a,b)"
   ]
  },
  {
   "cell_type": "markdown",
   "metadata": {},
   "source": [
    "# Задание 1.3\n",
    "\n",
    "Реализовать бинарное дерево (класс Tree), в нём методы __repr__, __str__, __iter__ (итерация только по листьям)."
   ]
  },
  {
   "cell_type": "code",
   "execution_count": 592,
   "metadata": {},
   "outputs": [],
   "source": [
    "class Tree:\n",
    "    def __init__(self, value=None, left=None, right=None):\n",
    "        self.left = left\n",
    "        self.right = right\n",
    "        self.value = value\n",
    "        \n",
    "    def __iter__(self):\n",
    "        \n",
    "        # У узла нет потомков\n",
    "        if (self.left == None) and (self.right == None):\n",
    "            return iter([self.value])\n",
    "        \n",
    "        # У узла есть оба потомка\n",
    "        elif (self.left != None) and (self.right != None):\n",
    "            return iter(list(self.left.__iter__()) + list(self.right.__iter__()))\n",
    "        \n",
    "        # У узла есть только левый потомок\n",
    "        elif self.left != None:\n",
    "            return self.left.__iter__()\n",
    "        \n",
    "        # У узла есть только правый потомок\n",
    "        elif self.right != None:\n",
    "            return self.right.__iter__()\n",
    "        \n",
    "    \n",
    "    def __str__(self):\n",
    "        # У узла нет потомков\n",
    "        if (self.left == None) and (self.right == None):\n",
    "            return \"Лист({0})\".format(self.value)\n",
    "        \n",
    "        # У узла есть оба потомка\n",
    "        elif (self.left != None) and (self.right != None):\n",
    "            return \"[Узел({0}) с левым потомком \".format(self.value) + self.left.__str__() + \" и правым потомком \" + self.right.__str__() + \"]\"\n",
    "    \n",
    "        # У узла есть только левый потомок\n",
    "        elif (self.left != None):\n",
    "            return \"[Узел({0}) с левым потомком \".format(self.value) + self.left.__str__() + \"]\"\n",
    "        \n",
    "        # У узла есть только правый потомок\n",
    "        elif self.right != None:\n",
    "            return \"[Узел({0}) с правым потомком \".format(self.value) + self.right.__str__() + \"]\"\n",
    "    \n",
    "    def __repr__(self):\n",
    "        print(self)\n"
   ]
  },
  {
   "cell_type": "code",
   "execution_count": 593,
   "metadata": {},
   "outputs": [
    {
     "data": {
      "text/plain": [
       "True"
      ]
     },
     "execution_count": 593,
     "metadata": {},
     "output_type": "execute_result"
    }
   ],
   "source": [
    "tree = Tree(0, Tree(1, Tree(3), Tree(4)),                             \n",
    "               Tree(2))\n",
    "\n",
    "list(tree) == [3, 4, 2]   "
   ]
  },
  {
   "cell_type": "code",
   "execution_count": 594,
   "metadata": {},
   "outputs": [
    {
     "data": {
      "text/plain": [
       "<list_iterator at 0x24e83532d30>"
      ]
     },
     "execution_count": 594,
     "metadata": {},
     "output_type": "execute_result"
    }
   ],
   "source": [
    "tree.__iter__()"
   ]
  },
  {
   "cell_type": "code",
   "execution_count": 595,
   "metadata": {},
   "outputs": [
    {
     "data": {
      "text/plain": [
       "'[Узел(0) с левым потомком [Узел(1) с левым потомком Лист(3) и правым потомком Лист(4)] и правым потомком Лист(2)]'"
      ]
     },
     "execution_count": 595,
     "metadata": {},
     "output_type": "execute_result"
    }
   ],
   "source": [
    "tree.__str__()"
   ]
  },
  {
   "cell_type": "code",
   "execution_count": 596,
   "metadata": {},
   "outputs": [
    {
     "name": "stdout",
     "output_type": "stream",
     "text": [
      "[Узел(0) с левым потомком [Узел(1) с левым потомком Лист(3) и правым потомком Лист(4)] и правым потомком Лист(2)]\n"
     ]
    }
   ],
   "source": [
    "tree.__repr__()"
   ]
  },
  {
   "cell_type": "markdown",
   "metadata": {},
   "source": [
    "# Задание 1.4\n",
    "\n",
    "Реализовать простейший калькулятор математических выражений:\n",
    "- только целые числа\n",
    "- **+**, **\\-**, **\\***, **\\**\n",
    "- скобки\n",
    "\n",
    "**Можно использовать регулярные выражения**"
   ]
  },
  {
   "cell_type": "code",
   "execution_count": 597,
   "metadata": {},
   "outputs": [],
   "source": [
    "def calc(expr):\n",
    "    \n",
    "    expr = expr.replace('(', '( ')\n",
    "    expr = expr.replace(')', ' )')\n",
    "    expr = expr.split()\n",
    "    \n",
    "    # Проверка скобок - от крайних в глубину\n",
    "    if ('(' in expr) and (')' in expr):\n",
    "\n",
    "        indx_r = expr.index(')')                                                # Индекс самой правой скобки\n",
    "        indx_l  =  indx_r - 1 - list( reversed(expr[:indx_r]) ).index('(' )     # Индекс самой левой скобки\n",
    "        return calc( ' '.join(expr[0:max(0, indx_l)] + [calc( ' '.join( expr[indx_l+1:indx_r] ) )] + expr[min(len(expr), indx_r+1):len(expr)]) )\n",
    "        \n",
    "            \n",
    "    nums = [i for i in expr if (i.replace('-', '')).isdigit()]   # Количество чисел (не символов) в строке\n",
    "\n",
    "    if (len(nums) == 1):         # Случай единственного элемента\n",
    "        return str(int(expr[0]))\n",
    "        \n",
    "    elif len(nums) == 2:         # Случай пары элементов\n",
    "        if (expr[1] == '*'):\n",
    "            return str( int(expr[0])*int(expr[2]) )\n",
    "        elif (expr[1] == '/'):\n",
    "            return str( int(int(expr[0])/int(expr[2])) )\n",
    "        elif (expr[1] == '+'):\n",
    "            return str( int(expr[0])+int(expr[2]) )\n",
    "        elif (expr[1] == '-'):\n",
    "            return str( int(expr[0])-int(expr[2]) )\n",
    "        \n",
    "    else:\n",
    "        if ( ('/' in expr) or ('*' in expr) ):          # В первую очередь - проверка умножения и деления \n",
    "        \n",
    "            indx = min( expr.index('/') if ('/' in expr) else len(expr),         # Индекс знака умножения или деления\n",
    "                        expr.index('*') if ('*' in expr) else len(expr) )\n",
    "            \n",
    "            return calc( ' '.join(expr[0:max(0, indx-1)] + [calc( ' '.join( expr[indx-1:indx+2] ) )] + expr[min(len(expr), indx+2):len(expr)]) )\n",
    "        \n",
    "        else:\n",
    "            indx = min( expr.index('-') if ('-' in expr) else len(expr),         # Индекс знака сложения или вычитания\n",
    "                        expr.index('+') if ('+' in expr) else len(expr) )\n",
    "            return calc( ' '.join(expr[0:max(0, indx-1)] + [calc( ' '.join( expr[indx-1:indx+2] ) )] + expr[min(len(expr), indx+2):len(expr)]) )   "
   ]
  },
  {
   "cell_type": "code",
   "execution_count": 598,
   "metadata": {},
   "outputs": [
    {
     "name": "stdout",
     "output_type": "stream",
     "text": [
      "4\n"
     ]
    }
   ],
   "source": [
    "s1 = '(2 + 2) / 2 + 6 / 3'          # 4\n",
    "print(calc(s1))"
   ]
  },
  {
   "cell_type": "code",
   "execution_count": 599,
   "metadata": {},
   "outputs": [
    {
     "name": "stdout",
     "output_type": "stream",
     "text": [
      "3560\n"
     ]
    }
   ],
   "source": [
    "s2 = '3765 - (456 - 23 * 2) / 2'    # 3560\n",
    "print(calc(s2))"
   ]
  },
  {
   "cell_type": "code",
   "execution_count": 600,
   "metadata": {},
   "outputs": [
    {
     "name": "stdout",
     "output_type": "stream",
     "text": [
      "1179\n"
     ]
    }
   ],
   "source": [
    "s3 = '786 / 2 * 3'                  # 1179\n",
    "print(calc(s3))"
   ]
  }
 ],
 "metadata": {
  "kernelspec": {
   "display_name": "Python 3",
   "language": "python",
   "name": "python3"
  },
  "language_info": {
   "codemirror_mode": {
    "name": "ipython",
    "version": 3
   },
   "file_extension": ".py",
   "mimetype": "text/x-python",
   "name": "python",
   "nbconvert_exporter": "python",
   "pygments_lexer": "ipython3",
   "version": "3.8.3"
  },
  "vscode": {
   "interpreter": {
    "hash": "916dbcbb3f70747c44a77c7bcd40155683ae19c65e1c03b4aa3499c5328201f1"
   }
  }
 },
 "nbformat": 4,
 "nbformat_minor": 4
}
