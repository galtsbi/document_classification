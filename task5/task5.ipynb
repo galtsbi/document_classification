{
 "cells": [
  {
   "cell_type": "markdown",
   "metadata": {},
   "source": [
    "# Задание 5. Извлечение данных "
   ]
  },
  {
   "cell_type": "markdown",
   "metadata": {},
   "source": [
    "# Задание 5.1\n",
    "\n",
    "Напишите скрипт, который скачивает  сообщения с Телеграм-канала https://t.me/Sputnik_results. \\\n",
    "Сохраните сообщения в формате по вашему выбору (.csv, .jsonl, sqlite, parquet, и т.д.). \\\n",
    "Откройте с помощью Pandas или аналогичных библиотек, постройте график числа сообщений в зависимости от даты. "
   ]
  },
  {
   "cell_type": "markdown",
   "metadata": {},
   "source": [
    "### Загрузка информации о пользователях и сообщений чата"
   ]
  },
  {
   "cell_type": "code",
   "execution_count": 11,
   "metadata": {
    "vscode": {
     "languageId": "python"
    }
   },
   "outputs": [],
   "source": [
    "import pandas as pd\n",
    "import numpy as np\n",
    "import matplotlib.pyplot as plt\n",
    "import re"
   ]
  },
  {
   "cell_type": "code",
   "execution_count": 12,
   "metadata": {},
   "outputs": [],
   "source": [
    "users = pd.read_json('./telegram/user_data.json')\n",
    "messages = pd.read_json('./telegram/channel_messages.json')"
   ]
  },
  {
   "cell_type": "code",
   "execution_count": 13,
   "metadata": {},
   "outputs": [
    {
     "data": {
      "text/html": [
       "<div>\n",
       "<style scoped>\n",
       "    .dataframe tbody tr th:only-of-type {\n",
       "        vertical-align: middle;\n",
       "    }\n",
       "\n",
       "    .dataframe tbody tr th {\n",
       "        vertical-align: top;\n",
       "    }\n",
       "\n",
       "    .dataframe thead th {\n",
       "        text-align: right;\n",
       "    }\n",
       "</style>\n",
       "<table border=\"1\" class=\"dataframe\">\n",
       "  <thead>\n",
       "    <tr style=\"text-align: right;\">\n",
       "      <th></th>\n",
       "      <th>id</th>\n",
       "      <th>first_name</th>\n",
       "      <th>last_name</th>\n",
       "      <th>user</th>\n",
       "      <th>phone</th>\n",
       "      <th>is_bot</th>\n",
       "    </tr>\n",
       "  </thead>\n",
       "  <tbody>\n",
       "    <tr>\n",
       "      <th>0</th>\n",
       "      <td>1827183377</td>\n",
       "      <td>Ольга</td>\n",
       "      <td>None</td>\n",
       "      <td>None</td>\n",
       "      <td>NaN</td>\n",
       "      <td>False</td>\n",
       "    </tr>\n",
       "    <tr>\n",
       "      <th>1</th>\n",
       "      <td>803611400</td>\n",
       "      <td>Wssdt</td>\n",
       "      <td>None</td>\n",
       "      <td>Vp_RBG</td>\n",
       "      <td>NaN</td>\n",
       "      <td>False</td>\n",
       "    </tr>\n",
       "    <tr>\n",
       "      <th>2</th>\n",
       "      <td>5828338970</td>\n",
       "      <td>Евдокия</td>\n",
       "      <td>Захарова</td>\n",
       "      <td>None</td>\n",
       "      <td>NaN</td>\n",
       "      <td>False</td>\n",
       "    </tr>\n",
       "    <tr>\n",
       "      <th>3</th>\n",
       "      <td>1522409953</td>\n",
       "      <td>Republisher</td>\n",
       "      <td>None</td>\n",
       "      <td>re_publisher_bot</td>\n",
       "      <td>NaN</td>\n",
       "      <td>True</td>\n",
       "    </tr>\n",
       "    <tr>\n",
       "      <th>4</th>\n",
       "      <td>226663874</td>\n",
       "      <td>Koan</td>\n",
       "      <td>None</td>\n",
       "      <td>koan0</td>\n",
       "      <td>NaN</td>\n",
       "      <td>False</td>\n",
       "    </tr>\n",
       "    <tr>\n",
       "      <th>...</th>\n",
       "      <td>...</td>\n",
       "      <td>...</td>\n",
       "      <td>...</td>\n",
       "      <td>...</td>\n",
       "      <td>...</td>\n",
       "      <td>...</td>\n",
       "    </tr>\n",
       "    <tr>\n",
       "      <th>9995</th>\n",
       "      <td>875014173</td>\n",
       "      <td>GALINA</td>\n",
       "      <td>S</td>\n",
       "      <td>None</td>\n",
       "      <td>NaN</td>\n",
       "      <td>False</td>\n",
       "    </tr>\n",
       "    <tr>\n",
       "      <th>9996</th>\n",
       "      <td>596445342</td>\n",
       "      <td>drud</td>\n",
       "      <td>None</td>\n",
       "      <td>salvagerbox</td>\n",
       "      <td>NaN</td>\n",
       "      <td>False</td>\n",
       "    </tr>\n",
       "    <tr>\n",
       "      <th>9997</th>\n",
       "      <td>332438235</td>\n",
       "      <td>Your</td>\n",
       "      <td>Sister</td>\n",
       "      <td>YourTany</td>\n",
       "      <td>NaN</td>\n",
       "      <td>False</td>\n",
       "    </tr>\n",
       "    <tr>\n",
       "      <th>9998</th>\n",
       "      <td>1107695499</td>\n",
       "      <td>Anna</td>\n",
       "      <td>None</td>\n",
       "      <td>None</td>\n",
       "      <td>NaN</td>\n",
       "      <td>False</td>\n",
       "    </tr>\n",
       "    <tr>\n",
       "      <th>9999</th>\n",
       "      <td>429909098</td>\n",
       "      <td>marina</td>\n",
       "      <td>None</td>\n",
       "      <td>None</td>\n",
       "      <td>NaN</td>\n",
       "      <td>False</td>\n",
       "    </tr>\n",
       "  </tbody>\n",
       "</table>\n",
       "<p>10000 rows × 6 columns</p>\n",
       "</div>"
      ],
      "text/plain": [
       "              id   first_name last_name              user  phone  is_bot\n",
       "0     1827183377        Ольга      None              None    NaN   False\n",
       "1      803611400        Wssdt      None            Vp_RBG    NaN   False\n",
       "2     5828338970      Евдокия  Захарова              None    NaN   False\n",
       "3     1522409953  Republisher      None  re_publisher_bot    NaN    True\n",
       "4      226663874         Koan      None             koan0    NaN   False\n",
       "...          ...          ...       ...               ...    ...     ...\n",
       "9995   875014173       GALINA         S              None    NaN   False\n",
       "9996   596445342         drud      None       salvagerbox    NaN   False\n",
       "9997   332438235         Your    Sister          YourTany    NaN   False\n",
       "9998  1107695499         Anna      None              None    NaN   False\n",
       "9999   429909098       marina      None              None    NaN   False\n",
       "\n",
       "[10000 rows x 6 columns]"
      ]
     },
     "execution_count": 13,
     "metadata": {},
     "output_type": "execute_result"
    }
   ],
   "source": [
    "users"
   ]
  },
  {
   "cell_type": "code",
   "execution_count": 14,
   "metadata": {},
   "outputs": [],
   "source": [
    "messages = messages[['date', 'message']]"
   ]
  },
  {
   "cell_type": "code",
   "execution_count": 15,
   "metadata": {},
   "outputs": [],
   "source": [
    "dates = []\n",
    "for date in messages['date']:\n",
    "    new_date = date.strftime('%Y-%m')\n",
    "    dates.append(new_date)\n",
    "    \n",
    "messages['date'] = dates"
   ]
  },
  {
   "cell_type": "code",
   "execution_count": 16,
   "metadata": {},
   "outputs": [
    {
     "data": {
      "text/html": [
       "<div>\n",
       "<style scoped>\n",
       "    .dataframe tbody tr th:only-of-type {\n",
       "        vertical-align: middle;\n",
       "    }\n",
       "\n",
       "    .dataframe tbody tr th {\n",
       "        vertical-align: top;\n",
       "    }\n",
       "\n",
       "    .dataframe thead th {\n",
       "        text-align: right;\n",
       "    }\n",
       "</style>\n",
       "<table border=\"1\" class=\"dataframe\">\n",
       "  <thead>\n",
       "    <tr style=\"text-align: right;\">\n",
       "      <th></th>\n",
       "      <th>date</th>\n",
       "      <th>message</th>\n",
       "    </tr>\n",
       "  </thead>\n",
       "  <tbody>\n",
       "    <tr>\n",
       "      <th>0</th>\n",
       "      <td>2022-12</td>\n",
       "      <td>Пол, возраст, наличие хр.заболеваний укажите, ...</td>\n",
       "    </tr>\n",
       "    <tr>\n",
       "      <th>1</th>\n",
       "      <td>2022-12</td>\n",
       "      <td>Конвасэл до сих пор не даёт полноценный QR код...</td>\n",
       "    </tr>\n",
       "    <tr>\n",
       "      <th>2</th>\n",
       "      <td>2022-12</td>\n",
       "      <td>Народные отчеты о вакцинации\\n\\n⚠️ ТОЛЬКО ПУБЛ...</td>\n",
       "    </tr>\n",
       "    <tr>\n",
       "      <th>3</th>\n",
       "      <td>2022-12</td>\n",
       "      <td>Dima32 Данный чат предназначен только для отчё...</td>\n",
       "    </tr>\n",
       "    <tr>\n",
       "      <th>4</th>\n",
       "      <td>2022-12</td>\n",
       "      <td>📣 ВЕСТНИК V1V2.ru выпуск #70 от 09.12.2022@09:...</td>\n",
       "    </tr>\n",
       "    <tr>\n",
       "      <th>...</th>\n",
       "      <td>...</td>\n",
       "      <td>...</td>\n",
       "    </tr>\n",
       "    <tr>\n",
       "      <th>31759</th>\n",
       "      <td>2020-12</td>\n",
       "      <td>NaN</td>\n",
       "    </tr>\n",
       "    <tr>\n",
       "      <th>31760</th>\n",
       "      <td>2020-12</td>\n",
       "      <td>NaN</td>\n",
       "    </tr>\n",
       "    <tr>\n",
       "      <th>31761</th>\n",
       "      <td>2020-12</td>\n",
       "      <td>NaN</td>\n",
       "    </tr>\n",
       "    <tr>\n",
       "      <th>31762</th>\n",
       "      <td>2020-12</td>\n",
       "      <td>NaN</td>\n",
       "    </tr>\n",
       "    <tr>\n",
       "      <th>31763</th>\n",
       "      <td>2020-12</td>\n",
       "      <td>NaN</td>\n",
       "    </tr>\n",
       "  </tbody>\n",
       "</table>\n",
       "<p>31764 rows × 2 columns</p>\n",
       "</div>"
      ],
      "text/plain": [
       "          date                                            message\n",
       "0      2022-12  Пол, возраст, наличие хр.заболеваний укажите, ...\n",
       "1      2022-12  Конвасэл до сих пор не даёт полноценный QR код...\n",
       "2      2022-12  Народные отчеты о вакцинации\\n\\n⚠️ ТОЛЬКО ПУБЛ...\n",
       "3      2022-12  Dima32 Данный чат предназначен только для отчё...\n",
       "4      2022-12  📣 ВЕСТНИК V1V2.ru выпуск #70 от 09.12.2022@09:...\n",
       "...        ...                                                ...\n",
       "31759  2020-12                                                NaN\n",
       "31760  2020-12                                                NaN\n",
       "31761  2020-12                                                NaN\n",
       "31762  2020-12                                                NaN\n",
       "31763  2020-12                                                NaN\n",
       "\n",
       "[31764 rows x 2 columns]"
      ]
     },
     "execution_count": 16,
     "metadata": {},
     "output_type": "execute_result"
    }
   ],
   "source": [
    "messages"
   ]
  },
  {
   "cell_type": "markdown",
   "metadata": {},
   "source": [
    "**Удаление пустых сообщений**"
   ]
  },
  {
   "cell_type": "code",
   "execution_count": 17,
   "metadata": {},
   "outputs": [],
   "source": [
    "n = len(messages)"
   ]
  },
  {
   "cell_type": "code",
   "execution_count": 18,
   "metadata": {
    "vscode": {
     "languageId": "python"
    }
   },
   "outputs": [
    {
     "name": "stdout",
     "output_type": "stream",
     "text": [
      "Было удалено 8388 пустых сообщений.\n",
      "Число непустых сообщений в чате: 23376.\n"
     ]
    }
   ],
   "source": [
    "messages.replace(\"\", np.nan, inplace = True)\n",
    "messages.dropna(inplace=True)\n",
    "\n",
    "print(f\"Было удалено {n-len(messages)} пустых сообщений.\")\n",
    "print(f\"Число непустых сообщений в чате: {len(messages)}.\")"
   ]
  },
  {
   "cell_type": "markdown",
   "metadata": {},
   "source": [
    "### График числа сообщений в зависимости от даты"
   ]
  },
  {
   "cell_type": "code",
   "execution_count": 19,
   "metadata": {
    "vscode": {
     "languageId": "python"
    }
   },
   "outputs": [],
   "source": [
    "messages_per_month = messages.groupby(['date']).count()"
   ]
  },
  {
   "cell_type": "code",
   "execution_count": 20,
   "metadata": {
    "vscode": {
     "languageId": "python"
    }
   },
   "outputs": [
    {
     "data": {
      "text/plain": [
       "<matplotlib.axes._subplots.AxesSubplot at 0x16415d3c0d0>"
      ]
     },
     "execution_count": 20,
     "metadata": {},
     "output_type": "execute_result"
    },
    {
     "data": {
      "image/png": "[encoded data removed]",
      "text/plain": [
       "<Figure size 720x504 with 1 Axes>"
      ]
     },
     "metadata": {
      "needs_background": "light"
     },
     "output_type": "display_data"
    }
   ],
   "source": [
    "messages_per_month.plot(figsize=(10,7), legend=None)"
   ]
  },
  {
   "cell_type": "markdown",
   "metadata": {},
   "source": [
    "# Задание 5.2\n",
    "1. Напишите функции для извлечения данных из сообщений:\n",
    "   - пол участника\n",
    "   - возраст участника\n",
    "\n",
    "Постройте диаграммы для визуализации. \n",
    "\n",
    "2. Реализуйте какой-либо анализ этих данных на ваше усмотрение. Например их можно кластеризовать и интерпретировать кластеры, или попробовать выделить статистику по среднему количеству антител в зависимости от возраста, или посчитать количество заболевших после вакцинации. Обязательна визуализация. "
   ]
  },
  {
   "cell_type": "markdown",
   "metadata": {},
   "source": [
    "## Пол участника"
   ]
  },
  {
   "cell_type": "markdown",
   "metadata": {},
   "source": [
    "Регулярное выражение ищет следующий паттерн: [какие либо не буквенные символы] + **(м|муж|мужчина|ж|жен|женщина)** + [какие либо небуквенные символы]."
   ]
  },
  {
   "cell_type": "code",
   "execution_count": 21,
   "metadata": {
    "vscode": {
     "languageId": "python"
    }
   },
   "outputs": [],
   "source": [
    "pattern_gender = re.compile(\"[^а-я]+?(м|муж|мужчина|ж|жен|женщина)[^а-я]+?\", re.IGNORECASE)"
   ]
  },
  {
   "cell_type": "markdown",
   "metadata": {},
   "source": [
    "### Проверим работу на разных сообщениях"
   ]
  },
  {
   "cell_type": "markdown",
   "metadata": {},
   "source": [
    "**Текст 1-го сообщения:** \\\n",
    "Дополняю и обобщаю #ревак \\\n",
    "Моя мама \\\n",
    "<u>**Ж**8</u>8, диабет 2 типа, ковидом не болела \\\n",
    "V1 21.01.2021, без \"побочек\", Спутник V ..."
   ]
  },
  {
   "cell_type": "code",
   "execution_count": 22,
   "metadata": {
    "vscode": {
     "languageId": "python"
    }
   },
   "outputs": [
    {
     "name": "stdout",
     "output_type": "stream",
     "text": [
      "Ж\n"
     ]
    }
   ],
   "source": [
    "test_1 = \"Дополняю и обобщаю:\\n#ревак\\nМоя мама\\nЖ88, диабет 2 типа, ковидом не болела\\nV1 21.01.2021, без побочек, Спутник V.\\nV2 11.02.2021, без побочек, Спутник V.\\n03.03.2021 - 84,3 ое/мл, DiaSorin (Хеликс)\\nRV1 13.09.2021, без побочек, Спутник V.\\nRV2 04.10.2021, без побочек, Спутник V .\\n17.10.2021 - 665 BAU, Abbott (Инвитро).\\nR2V1 (V5) 13.03.2022, без побочек, Спутник V.\\nR2V2 (V6) 03.04.2022, без побочек, Спутник V.\\n14.04.2022 - 205,7 BAU, Abbott (Инвитро).\\nR3V1 (V7) 03.12.2022, без побочек, Спутник V плюс Ультрикс квадри.\"\n",
    "res = re.search(pattern_gender, \" \" + test_1 + \" \")\n",
    "print(res[1])"
   ]
  },
  {
   "cell_type": "markdown",
   "metadata": {},
   "source": [
    "**Текст 2-го сообщения:** \\\n",
    "Женщина, 39 лет. 1я вакцинация 9.12. Побочек не было никаких, даже тревожно)"
   ]
  },
  {
   "cell_type": "code",
   "execution_count": 23,
   "metadata": {},
   "outputs": [
    {
     "name": "stdout",
     "output_type": "stream",
     "text": [
      "Женщина\n"
     ]
    }
   ],
   "source": [
    "test_2 = \"Женщина, 39 лет. 1я вакцинация 9.12. Побочек не было никаких, даже тревожно)\"\n",
    "res = re.search(pattern_gender, \" \" + test_2 + \" \")\n",
    "print(res[1])"
   ]
  },
  {
   "cell_type": "markdown",
   "metadata": {},
   "source": [
    "**Текст 3-го сообщения:** \\\n",
    "Ж.47  Сутки после вакцинации (9.12.20).   К вечеру поднялась т 37.0,  головная боль как при гриппе и боль в области глаз, тахикардия 82-85, чуть выше давление, небольшая слабость.  боль в месте укола, к утру онемело плечо, озноб. В целом самочувствие удовлетворительное. \\nРС. Страшно хочется карамели))"
   ]
  },
  {
   "cell_type": "code",
   "execution_count": 24,
   "metadata": {},
   "outputs": [
    {
     "name": "stdout",
     "output_type": "stream",
     "text": [
      "Ж\n"
     ]
    }
   ],
   "source": [
    "test_3 = \"Ж.47  Сутки после вакцинации (9.12.20).   К вечеру поднялась т 37.0,  головная боль как при гриппе и боль в области глаз, тахикардия 82-85, чуть выше давление, небольшая слабость.  боль в месте укола, к утру онемело плечо, озноб. В целом самочувствие удовлетворительное. \\nРС. Страшно хочется карамели))\"\n",
    "res = re.search(pattern_gender, \" \" + test_3 + \" \")\n",
    "print(res[1])"
   ]
  },
  {
   "cell_type": "markdown",
   "metadata": {},
   "source": [
    "**Добавим информацию о поле в датафрейм**"
   ]
  },
  {
   "cell_type": "code",
   "execution_count": 25,
   "metadata": {
    "vscode": {
     "languageId": "python"
    }
   },
   "outputs": [
    {
     "data": {
      "text/html": [
       "<div>\n",
       "<style scoped>\n",
       "    .dataframe tbody tr th:only-of-type {\n",
       "        vertical-align: middle;\n",
       "    }\n",
       "\n",
       "    .dataframe tbody tr th {\n",
       "        vertical-align: top;\n",
       "    }\n",
       "\n",
       "    .dataframe thead th {\n",
       "        text-align: right;\n",
       "    }\n",
       "</style>\n",
       "<table border=\"1\" class=\"dataframe\">\n",
       "  <thead>\n",
       "    <tr style=\"text-align: right;\">\n",
       "      <th></th>\n",
       "      <th>date</th>\n",
       "      <th>message</th>\n",
       "      <th>gender</th>\n",
       "    </tr>\n",
       "  </thead>\n",
       "  <tbody>\n",
       "    <tr>\n",
       "      <th>0</th>\n",
       "      <td>2022-12</td>\n",
       "      <td>Пол, возраст, наличие хр.заболеваний укажите, ...</td>\n",
       "      <td>None</td>\n",
       "    </tr>\n",
       "    <tr>\n",
       "      <th>1</th>\n",
       "      <td>2022-12</td>\n",
       "      <td>Конвасэл до сих пор не даёт полноценный QR код...</td>\n",
       "      <td>None</td>\n",
       "    </tr>\n",
       "    <tr>\n",
       "      <th>2</th>\n",
       "      <td>2022-12</td>\n",
       "      <td>Народные отчеты о вакцинации\\n\\n⚠️ ТОЛЬКО ПУБЛ...</td>\n",
       "      <td>None</td>\n",
       "    </tr>\n",
       "    <tr>\n",
       "      <th>3</th>\n",
       "      <td>2022-12</td>\n",
       "      <td>Dima32 Данный чат предназначен только для отчё...</td>\n",
       "      <td>None</td>\n",
       "    </tr>\n",
       "    <tr>\n",
       "      <th>4</th>\n",
       "      <td>2022-12</td>\n",
       "      <td>📣 ВЕСТНИК V1V2.ru выпуск #70 от 09.12.2022@09:...</td>\n",
       "      <td>None</td>\n",
       "    </tr>\n",
       "    <tr>\n",
       "      <th>5</th>\n",
       "      <td>2022-12</td>\n",
       "      <td>#назально #ревак #спутник-V\\nМ33. 1 комп.: лег...</td>\n",
       "      <td>М</td>\n",
       "    </tr>\n",
       "    <tr>\n",
       "      <th>6</th>\n",
       "      <td>2022-12</td>\n",
       "      <td>#ревак #назально  первый этап 12.09, второй эт...</td>\n",
       "      <td>None</td>\n",
       "    </tr>\n",
       "    <tr>\n",
       "      <th>7</th>\n",
       "      <td>2022-12</td>\n",
       "      <td>#назально #ревак. Ж35. Хр. Заболевания: полива...</td>\n",
       "      <td>Ж</td>\n",
       "    </tr>\n",
       "    <tr>\n",
       "      <th>8</th>\n",
       "      <td>2022-12</td>\n",
       "      <td>📣 ВЕСТНИК V1V2.ru выпуск #70 от 09.12.2022@09:...</td>\n",
       "      <td>None</td>\n",
       "    </tr>\n",
       "    <tr>\n",
       "      <th>9</th>\n",
       "      <td>2022-12</td>\n",
       "      <td>#ревак #назально\\n11.12.22. Гум, Спутник+Ультр...</td>\n",
       "      <td>Ж</td>\n",
       "    </tr>\n",
       "  </tbody>\n",
       "</table>\n",
       "</div>"
      ],
      "text/plain": [
       "      date                                            message gender\n",
       "0  2022-12  Пол, возраст, наличие хр.заболеваний укажите, ...   None\n",
       "1  2022-12  Конвасэл до сих пор не даёт полноценный QR код...   None\n",
       "2  2022-12  Народные отчеты о вакцинации\\n\\n⚠️ ТОЛЬКО ПУБЛ...   None\n",
       "3  2022-12  Dima32 Данный чат предназначен только для отчё...   None\n",
       "4  2022-12  📣 ВЕСТНИК V1V2.ru выпуск #70 от 09.12.2022@09:...   None\n",
       "5  2022-12  #назально #ревак #спутник-V\\nМ33. 1 комп.: лег...      М\n",
       "6  2022-12  #ревак #назально  первый этап 12.09, второй эт...   None\n",
       "7  2022-12  #назально #ревак. Ж35. Хр. Заболевания: полива...      Ж\n",
       "8  2022-12  📣 ВЕСТНИК V1V2.ru выпуск #70 от 09.12.2022@09:...   None\n",
       "9  2022-12  #ревак #назально\\n11.12.22. Гум, Спутник+Ультр...      Ж"
      ]
     },
     "execution_count": 25,
     "metadata": {},
     "output_type": "execute_result"
    }
   ],
   "source": [
    "gender_col = []\n",
    "\n",
    "for message in messages['message']:\n",
    "    gender = re.search(pattern_gender, \" \" + message + \" \") \n",
    "    if gender:\n",
    "        gender_col.append(gender[1][0].upper())\n",
    "    else:\n",
    "        gender_col.append(None)\n",
    "\n",
    "messages['gender'] = gender_col   \n",
    "messages.head(10)"
   ]
  },
  {
   "cell_type": "code",
   "execution_count": 26,
   "metadata": {},
   "outputs": [],
   "source": [
    "none_gender = messages['gender'].isnull().sum()"
   ]
  },
  {
   "cell_type": "code",
   "execution_count": 27,
   "metadata": {
    "vscode": {
     "languageId": "python"
    }
   },
   "outputs": [
    {
     "name": "stdout",
     "output_type": "stream",
     "text": [
      "В 29.82% сообщений не указан пол участника (6971 сообщений).\n"
     ]
    }
   ],
   "source": [
    "print(f\"В {(none_gender/len(messages))*100:.2f}% сообщений не указан пол участника ({none_gender} сообщений).\")"
   ]
  },
  {
   "cell_type": "code",
   "execution_count": 28,
   "metadata": {
    "vscode": {
     "languageId": "python"
    }
   },
   "outputs": [
    {
     "data": {
      "image/png": "[encoded data removed]",
      "text/plain": [
       "<Figure size 720x576 with 1 Axes>"
      ]
     },
     "metadata": {
      "needs_background": "light"
     },
     "output_type": "display_data"
    }
   ],
   "source": [
    "fig = plt.figure(figsize=(10,8))\n",
    "ax = fig.add_axes([0,0,0.5,0.5])\n",
    "genders = [\"М\", \"Ж\", \"Не указан\"]\n",
    "gender_statistics = [len(messages[ messages['gender'] == gender ]) for gender in genders[:2]] + [ len(messages[messages['gender'].isnull()])]\n",
    "ax.bar(genders, gender_statistics)\n",
    "plt.show()"
   ]
  },
  {
   "cell_type": "markdown",
   "metadata": {},
   "source": [
    "## Возраст участника"
   ]
  },
  {
   "cell_type": "markdown",
   "metadata": {},
   "source": [
    "Регулярное выражение ищет следующий паттерн: \\\n",
    "[буквы -ж -м -а -н/пробел/переход на следующую строку/открывающая скобка] + **(какая-либо цифра из интервала 1-9 + какая либо цифра из интервала 0-9)** + [запятая или точка](может и не быть) + [любая буква/пробел/переход на следующую строку/закрывающая скобка]."
   ]
  },
  {
   "cell_type": "markdown",
   "metadata": {},
   "source": [
    "Таким образом, из любой из нижеприведенных строк будет выделен возраст: \n",
    "- же<u>н **34** </u>переболела ковидом, \n",
    "- Мужчин<u>а **29** </u>антитела 100\n",
    "- женщина <u>(**35** </u>лет)\n",
    "- <u>М**35** </u>ковид"
   ]
  },
  {
   "cell_type": "code",
   "execution_count": 29,
   "metadata": {
    "vscode": {
     "languageId": "python"
    }
   },
   "outputs": [],
   "source": [
    "pattern_age = re.compile(\"[жмна|\\s|\\n|\\(]([1-9][0-9])[\\,\\.]?[а-я|\\s|\\n|\\)]\", re.IGNORECASE)"
   ]
  },
  {
   "cell_type": "markdown",
   "metadata": {},
   "source": [
    "### Проверим работу на разных сообщениях"
   ]
  },
  {
   "cell_type": "markdown",
   "metadata": {},
   "source": [
    "**Текст 1-го сообщения:** \n",
    "#назально #ревак. <u>Ж**35**</u>. Хр. Заболевания: поливалентная аллергия, средне тяжёлая БА. Ревак назалкой 15.12.22. До этого спутник 1,2, спутник лайт. Из побочек назальной: заложило ухо на 2 дня с той же стороны, что и ноздря, в которую брызгали."
   ]
  },
  {
   "cell_type": "code",
   "execution_count": 30,
   "metadata": {},
   "outputs": [
    {
     "name": "stdout",
     "output_type": "stream",
     "text": [
      "35\n"
     ]
    }
   ],
   "source": [
    "test_1 = \"#назально #ревак. Ж35. Хр. Заболевания: поливалентная аллергия, средне тяжёлая БА. Ревак назалкой 15.12.22. До этого спутник 1,2, спутник лайт. Из побочек назальной: заложило ухо на 2 дня с той же стороны, что и ноздря, в которую брызгали.\"\n",
    "res = re.search(pattern_age, \" \" + test_1 + \" \")\n",
    "print(res[1])"
   ]
  },
  {
   "cell_type": "markdown",
   "metadata": {},
   "source": [
    "**Текст 2-го сообщения:** \\\n",
    "Пол, возраст, наличие хр.заболеваний укажите, пожалуйста, редактированием своего сообщения."
   ]
  },
  {
   "cell_type": "code",
   "execution_count": 31,
   "metadata": {},
   "outputs": [
    {
     "name": "stdout",
     "output_type": "stream",
     "text": [
      "None\n"
     ]
    }
   ],
   "source": [
    "test_2 = \"Пол, возраст, наличие хр.заболеваний укажите, пожалуйста, редактированием своего сообщения.\"\n",
    "res = re.search(pattern_age, \" \" + test_2 + \" \")\n",
    "print(res)"
   ]
  },
  {
   "cell_type": "markdown",
   "metadata": {},
   "source": [
    "**Текст 3-го сообщения:** \n",
    "#ревак #назально \\\n",
    "11.12.22. Гум, Спутник+Ультрикс Квадри. \\\n",
    "Жен, 45.\\\n",
    "Никаких побочек. Наутро было чуть влажно в носу, но могло быть после прогулки в снегопад. В анамнезе 3*2 Спутник-V (последняя доза год назад в декабре), несколько заражений ковидом за весь период (2020-2022); заболевания протекали в виде обычная простуда, в т.ч. 2 раза бессимптомно. ПЦР всегда отрицательный, постдиагноз по антителам. Участник КИ Спутник-V."
   ]
  },
  {
   "cell_type": "code",
   "execution_count": 32,
   "metadata": {
    "vscode": {
     "languageId": "python"
    }
   },
   "outputs": [
    {
     "name": "stdout",
     "output_type": "stream",
     "text": [
      "45\n"
     ]
    }
   ],
   "source": [
    "test_3 = \"#ревак #назально\\n11.12.22. Гум, Спутник+Ультрикс Квадри. \\nЖен, 45.\\nНикаких побочек. Наутро было чуть влажно в носу, но могло быть после прогулки в снегопад. В анамнезе 3*2 Спутник-V (последняя доза год назад в декабре), несколько заражений ковидом за весь период (2020-2022); заболевания протекали в виде обычная простуда, в т.ч. 2 раза бессимптомно. ПЦР всегда отрицательный, постдиагноз по антителам. Участник КИ Спутник-V.\"\n",
    "res = re.search(pattern_age, \" \" + test_3 + \" \")\n",
    "print(res[1])"
   ]
  },
  {
   "cell_type": "markdown",
   "metadata": {},
   "source": [
    "**Добавим информацию о возрасте в датафрейм**"
   ]
  },
  {
   "cell_type": "code",
   "execution_count": 33,
   "metadata": {
    "vscode": {
     "languageId": "python"
    }
   },
   "outputs": [
    {
     "data": {
      "text/html": [
       "<div>\n",
       "<style scoped>\n",
       "    .dataframe tbody tr th:only-of-type {\n",
       "        vertical-align: middle;\n",
       "    }\n",
       "\n",
       "    .dataframe tbody tr th {\n",
       "        vertical-align: top;\n",
       "    }\n",
       "\n",
       "    .dataframe thead th {\n",
       "        text-align: right;\n",
       "    }\n",
       "</style>\n",
       "<table border=\"1\" class=\"dataframe\">\n",
       "  <thead>\n",
       "    <tr style=\"text-align: right;\">\n",
       "      <th></th>\n",
       "      <th>date</th>\n",
       "      <th>message</th>\n",
       "      <th>gender</th>\n",
       "      <th>age</th>\n",
       "    </tr>\n",
       "  </thead>\n",
       "  <tbody>\n",
       "    <tr>\n",
       "      <th>0</th>\n",
       "      <td>2022-12</td>\n",
       "      <td>Пол, возраст, наличие хр.заболеваний укажите, ...</td>\n",
       "      <td>None</td>\n",
       "      <td>NaN</td>\n",
       "    </tr>\n",
       "    <tr>\n",
       "      <th>1</th>\n",
       "      <td>2022-12</td>\n",
       "      <td>Конвасэл до сих пор не даёт полноценный QR код...</td>\n",
       "      <td>None</td>\n",
       "      <td>NaN</td>\n",
       "    </tr>\n",
       "    <tr>\n",
       "      <th>2</th>\n",
       "      <td>2022-12</td>\n",
       "      <td>Народные отчеты о вакцинации\\n\\n⚠️ ТОЛЬКО ПУБЛ...</td>\n",
       "      <td>None</td>\n",
       "      <td>NaN</td>\n",
       "    </tr>\n",
       "    <tr>\n",
       "      <th>3</th>\n",
       "      <td>2022-12</td>\n",
       "      <td>Dima32 Данный чат предназначен только для отчё...</td>\n",
       "      <td>None</td>\n",
       "      <td>NaN</td>\n",
       "    </tr>\n",
       "    <tr>\n",
       "      <th>4</th>\n",
       "      <td>2022-12</td>\n",
       "      <td>📣 ВЕСТНИК V1V2.ru выпуск #70 от 09.12.2022@09:...</td>\n",
       "      <td>None</td>\n",
       "      <td>NaN</td>\n",
       "    </tr>\n",
       "    <tr>\n",
       "      <th>5</th>\n",
       "      <td>2022-12</td>\n",
       "      <td>#назально #ревак #спутник-V\\nМ33. 1 комп.: лег...</td>\n",
       "      <td>М</td>\n",
       "      <td>33.0</td>\n",
       "    </tr>\n",
       "    <tr>\n",
       "      <th>6</th>\n",
       "      <td>2022-12</td>\n",
       "      <td>#ревак #назально  первый этап 12.09, второй эт...</td>\n",
       "      <td>None</td>\n",
       "      <td>NaN</td>\n",
       "    </tr>\n",
       "    <tr>\n",
       "      <th>7</th>\n",
       "      <td>2022-12</td>\n",
       "      <td>#назально #ревак. Ж35. Хр. Заболевания: полива...</td>\n",
       "      <td>Ж</td>\n",
       "      <td>35.0</td>\n",
       "    </tr>\n",
       "    <tr>\n",
       "      <th>8</th>\n",
       "      <td>2022-12</td>\n",
       "      <td>📣 ВЕСТНИК V1V2.ru выпуск #70 от 09.12.2022@09:...</td>\n",
       "      <td>None</td>\n",
       "      <td>NaN</td>\n",
       "    </tr>\n",
       "    <tr>\n",
       "      <th>9</th>\n",
       "      <td>2022-12</td>\n",
       "      <td>#ревак #назально\\n11.12.22. Гум, Спутник+Ультр...</td>\n",
       "      <td>Ж</td>\n",
       "      <td>45.0</td>\n",
       "    </tr>\n",
       "  </tbody>\n",
       "</table>\n",
       "</div>"
      ],
      "text/plain": [
       "      date                                            message gender   age\n",
       "0  2022-12  Пол, возраст, наличие хр.заболеваний укажите, ...   None   NaN\n",
       "1  2022-12  Конвасэл до сих пор не даёт полноценный QR код...   None   NaN\n",
       "2  2022-12  Народные отчеты о вакцинации\\n\\n⚠️ ТОЛЬКО ПУБЛ...   None   NaN\n",
       "3  2022-12  Dima32 Данный чат предназначен только для отчё...   None   NaN\n",
       "4  2022-12  📣 ВЕСТНИК V1V2.ru выпуск #70 от 09.12.2022@09:...   None   NaN\n",
       "5  2022-12  #назально #ревак #спутник-V\\nМ33. 1 комп.: лег...      М  33.0\n",
       "6  2022-12  #ревак #назально  первый этап 12.09, второй эт...   None   NaN\n",
       "7  2022-12  #назально #ревак. Ж35. Хр. Заболевания: полива...      Ж  35.0\n",
       "8  2022-12  📣 ВЕСТНИК V1V2.ru выпуск #70 от 09.12.2022@09:...   None   NaN\n",
       "9  2022-12  #ревак #назально\\n11.12.22. Гум, Спутник+Ультр...      Ж  45.0"
      ]
     },
     "execution_count": 33,
     "metadata": {},
     "output_type": "execute_result"
    }
   ],
   "source": [
    "age_col = []\n",
    "\n",
    "for message in messages['message']:\n",
    "    age = re.search(pattern_age, ' '+ message + ' ') \n",
    "    if age:\n",
    "        age_col.append(int(age[1]))\n",
    "    else:\n",
    "        age_col.append(None)\n",
    "\n",
    "messages['age'] = age_col    \n",
    "messages.head(10)"
   ]
  },
  {
   "cell_type": "code",
   "execution_count": 34,
   "metadata": {},
   "outputs": [],
   "source": [
    "none_age = messages['age'].isnull().sum()"
   ]
  },
  {
   "cell_type": "code",
   "execution_count": 35,
   "metadata": {},
   "outputs": [
    {
     "name": "stdout",
     "output_type": "stream",
     "text": [
      "В 22.64% сообщений не указан возраст участника (5292 сообщений).\n"
     ]
    }
   ],
   "source": [
    "print(f\"В {(none_age/len(messages))*100:.2f}% сообщений не указан возраст участника ({none_age} сообщений).\")"
   ]
  },
  {
   "cell_type": "code",
   "execution_count": 36,
   "metadata": {
    "vscode": {
     "languageId": "python"
    }
   },
   "outputs": [
    {
     "data": {
      "text/plain": [
       "<BarContainer object of 7 artists>"
      ]
     },
     "execution_count": 36,
     "metadata": {},
     "output_type": "execute_result"
    },
    {
     "data": {
      "image/png": "[encoded data removed]",
      "text/plain": [
       "<Figure size 720x432 with 1 Axes>"
      ]
     },
     "metadata": {
      "needs_background": "light"
     },
     "output_type": "display_data"
    }
   ],
   "source": [
    "fig = plt.figure(figsize=(10,6))\n",
    "\n",
    "split = [10, 20, 30, 40, 50, 60, 100]\n",
    "intervals = [f\"[{split[i]}, {split[i+1]})\" for i in range(len(split)-1)] + ['Не указан']\n",
    "\n",
    "age_statistics = [len(messages.loc[(messages['age'] >= split[i]) & (messages['age'] < split[i+1]) ] ) for i in range(len(split)-1)] + [len(messages[messages['age'].isnull()])]\n",
    "\n",
    "plt.bar(intervals, age_statistics)"
   ]
  },
  {
   "cell_type": "markdown",
   "metadata": {},
   "source": [
    "## Количество антител BAU/мл (BAU – «binding antibody units», «единицы связывающих антител»)"
   ]
  },
  {
   "cell_type": "markdown",
   "metadata": {},
   "source": [
    "Регулярное выражение ищет следующий паттерн: \\\n",
    "[какой-либо нечисленный символ] + **(цифры из интервала 0-9 + точка/запятая(может и не быть) + цифры из интервала 0-9)** + [пробел/переход на следующую строку](может и не быть) + **(BAU|бау|б + пробел)**."
   ]
  },
  {
   "cell_type": "code",
   "execution_count": 37,
   "metadata": {
    "vscode": {
     "languageId": "python"
    }
   },
   "outputs": [],
   "source": [
    "pattern_bau = re.compile(\"[^0-9](([0-9]+)[\\,|\\.]?([0-9]*))[\\s|\\n]?(BAU|бау|б\\s)\", re.IGNORECASE)"
   ]
  },
  {
   "cell_type": "markdown",
   "metadata": {},
   "source": [
    "### Проверим работу на разных сообщениях"
   ]
  },
  {
   "cell_type": "markdown",
   "metadata": {},
   "source": [
    "**Текст 1-го сообщения:**\n",
    "#дети #verosell #синофарм Ж9. V1 24.08.22, V2 24.09.22. Минск, GreenPark. Оба раза реакция на вакцинацию однократный подъем температуры через 2-4 часа после вакцинации, головная боль. Общее состояние усталости и периодическая головная боль в течение 4-5 дней после вакцинации. АТ после вакцинации не измеряли (прим. ребенок болел однократно октябрь 2021, АТ через месяц после отрицательного теста около 200 бау по тесту Эббот, больше точно не болела, т.к. при усилении волны уходили на СО)."
   ]
  },
  {
   "cell_type": "code",
   "execution_count": 39,
   "metadata": {
    "vscode": {
     "languageId": "python"
    }
   },
   "outputs": [
    {
     "name": "stdout",
     "output_type": "stream",
     "text": [
      "None\n"
     ]
    }
   ],
   "source": [
    "test_1 = \"#дети #verosell #синофарм Ж9. V1 24.08.22, V2 24.09.22. Минск, GreenPark. Оба раза реакция на вакцинацию однократный подъем температуры через 2-4 часа после вакцинации, головная боль. Общее состояние усталости и периодическая головная боль в течение 4-5 дней после вакцинации. АТ после вакцинации не измеряли (прим. ребенок болел однократно октябрь 2021, АТ через месяц после отрицательного теста около 200 бау по тесту Эббот, больше точно не болела, т.к. при усилении волны уходили на СО).\"\n",
    "res = re.search(pattern_bau, \" \" + test_3 + \" \")\n",
    "print(res)"
   ]
  },
  {
   "cell_type": "markdown",
   "metadata": {},
   "source": [
    "**Текст 2-го сообщения:**\n",
    "#ревак #назально \\\n",
    "15.08.2022 IgG к RBD 407 bau \\\n",
    "02.09.22 rv1 спутник назально \\\n",
    "02.10.22 IgG к RBD S 497 bau \\\n",
    "IgM к S 1,47 (реф 1, болела неподтвержденно в феврале, работаю в мед организации)\\\n",
    "IgG к N белку 0\\\n",
    "03.10.22 rv2 спутник назально.\\\n",
    "Лёгкие гриппоподобные симптомы, боль в горле, темп 37.0 через 2 часа, потом НЯ быстро сошли на нет. Перенесла rv2 назально намного легче, чем rv1 назально. В/М Спутник v1 так же перенился намного тяжелее v2 в/м."
   ]
  },
  {
   "cell_type": "code",
   "execution_count": 40,
   "metadata": {},
   "outputs": [
    {
     "name": "stdout",
     "output_type": "stream",
     "text": [
      "407\n"
     ]
    }
   ],
   "source": [
    "test_2 = \"#ревак #назально\\n15.08.2022 IgG к RBD 407 bau\\n02.09.22 rv1 спутник назально\\n02.10.22 IgG к RBD S 497 bau\\n                 IgM к S 1,47 (реф 1, болела неподтвержденно в феврале, работаю в мед организации)\\n                  IgG к N белку 0\\n03.10.22 rv2 спутник назально.\\nЛёгкие гриппоподобные симптомы, боль в горле, темп 37.0 через 2 часа, потом НЯ быстро сошли на нет. Перенесла rv2 назально намного легче, чем rv1 назально. В/М Спутник v1 так же перенился намного тяжелее v2 в/м.\"\n",
    "res = re.search(pattern_bau, \" \" + test_2 + \" \")\n",
    "print(res[1])"
   ]
  },
  {
   "cell_type": "markdown",
   "metadata": {},
   "source": [
    "**Текст 2-го сообщения:**\n",
    "#ревак #назально \\\n",
    "Не болела. \\\n",
    "30.04.22 IgG к RBD 25 bau (реф 7)\\\n",
    "03.10.22 Rv1 спутник назально\\\n",
    "Незначительная слабость 2 часа после вакцинации."
   ]
  },
  {
   "cell_type": "code",
   "execution_count": 41,
   "metadata": {},
   "outputs": [
    {
     "name": "stdout",
     "output_type": "stream",
     "text": [
      "25\n"
     ]
    }
   ],
   "source": [
    "test_3 = \"#ревак #назально \\nНе болела. \\n30.04.22 IgG к RBD 25 bau (реф 7)\\n03.10.22 Rv1 спутник назально\\nНезначительная слабость 2 часа после вакцинации.\"\n",
    "res = re.search(pattern_bau, \" \" + test_3 + \" \")\n",
    "print(res[1])"
   ]
  },
  {
   "cell_type": "markdown",
   "metadata": {},
   "source": [
    "**Добавим информацию о количестве антител в датафрейм**"
   ]
  },
  {
   "cell_type": "code",
   "execution_count": 42,
   "metadata": {
    "vscode": {
     "languageId": "python"
    }
   },
   "outputs": [
    {
     "data": {
      "text/html": [
       "<div>\n",
       "<style scoped>\n",
       "    .dataframe tbody tr th:only-of-type {\n",
       "        vertical-align: middle;\n",
       "    }\n",
       "\n",
       "    .dataframe tbody tr th {\n",
       "        vertical-align: top;\n",
       "    }\n",
       "\n",
       "    .dataframe thead th {\n",
       "        text-align: right;\n",
       "    }\n",
       "</style>\n",
       "<table border=\"1\" class=\"dataframe\">\n",
       "  <thead>\n",
       "    <tr style=\"text-align: right;\">\n",
       "      <th></th>\n",
       "      <th>date</th>\n",
       "      <th>message</th>\n",
       "      <th>gender</th>\n",
       "      <th>age</th>\n",
       "      <th>BAU</th>\n",
       "    </tr>\n",
       "  </thead>\n",
       "  <tbody>\n",
       "    <tr>\n",
       "      <th>0</th>\n",
       "      <td>2022-12</td>\n",
       "      <td>Пол, возраст, наличие хр.заболеваний укажите, ...</td>\n",
       "      <td>None</td>\n",
       "      <td>NaN</td>\n",
       "      <td>NaN</td>\n",
       "    </tr>\n",
       "    <tr>\n",
       "      <th>1</th>\n",
       "      <td>2022-12</td>\n",
       "      <td>Конвасэл до сих пор не даёт полноценный QR код...</td>\n",
       "      <td>None</td>\n",
       "      <td>NaN</td>\n",
       "      <td>NaN</td>\n",
       "    </tr>\n",
       "    <tr>\n",
       "      <th>2</th>\n",
       "      <td>2022-12</td>\n",
       "      <td>Народные отчеты о вакцинации\\n\\n⚠️ ТОЛЬКО ПУБЛ...</td>\n",
       "      <td>None</td>\n",
       "      <td>NaN</td>\n",
       "      <td>NaN</td>\n",
       "    </tr>\n",
       "    <tr>\n",
       "      <th>3</th>\n",
       "      <td>2022-12</td>\n",
       "      <td>Dima32 Данный чат предназначен только для отчё...</td>\n",
       "      <td>None</td>\n",
       "      <td>NaN</td>\n",
       "      <td>NaN</td>\n",
       "    </tr>\n",
       "    <tr>\n",
       "      <th>4</th>\n",
       "      <td>2022-12</td>\n",
       "      <td>📣 ВЕСТНИК V1V2.ru выпуск #70 от 09.12.2022@09:...</td>\n",
       "      <td>None</td>\n",
       "      <td>NaN</td>\n",
       "      <td>NaN</td>\n",
       "    </tr>\n",
       "    <tr>\n",
       "      <th>5</th>\n",
       "      <td>2022-12</td>\n",
       "      <td>#назально #ревак #спутник-V\\nМ33. 1 комп.: лег...</td>\n",
       "      <td>М</td>\n",
       "      <td>33.0</td>\n",
       "      <td>NaN</td>\n",
       "    </tr>\n",
       "    <tr>\n",
       "      <th>6</th>\n",
       "      <td>2022-12</td>\n",
       "      <td>#ревак #назально  первый этап 12.09, второй эт...</td>\n",
       "      <td>None</td>\n",
       "      <td>NaN</td>\n",
       "      <td>NaN</td>\n",
       "    </tr>\n",
       "    <tr>\n",
       "      <th>7</th>\n",
       "      <td>2022-12</td>\n",
       "      <td>#назально #ревак. Ж35. Хр. Заболевания: полива...</td>\n",
       "      <td>Ж</td>\n",
       "      <td>35.0</td>\n",
       "      <td>NaN</td>\n",
       "    </tr>\n",
       "    <tr>\n",
       "      <th>8</th>\n",
       "      <td>2022-12</td>\n",
       "      <td>📣 ВЕСТНИК V1V2.ru выпуск #70 от 09.12.2022@09:...</td>\n",
       "      <td>None</td>\n",
       "      <td>NaN</td>\n",
       "      <td>NaN</td>\n",
       "    </tr>\n",
       "    <tr>\n",
       "      <th>9</th>\n",
       "      <td>2022-12</td>\n",
       "      <td>#ревак #назально\\n11.12.22. Гум, Спутник+Ультр...</td>\n",
       "      <td>Ж</td>\n",
       "      <td>45.0</td>\n",
       "      <td>NaN</td>\n",
       "    </tr>\n",
       "    <tr>\n",
       "      <th>10</th>\n",
       "      <td>2022-12</td>\n",
       "      <td>#дети\\nМ 13 лет.  спутник м. \\n1я доза 23.10.2...</td>\n",
       "      <td>М</td>\n",
       "      <td>13.0</td>\n",
       "      <td>NaN</td>\n",
       "    </tr>\n",
       "    <tr>\n",
       "      <th>11</th>\n",
       "      <td>2022-12</td>\n",
       "      <td>#ревак  #назально  #спутник \\nМ 49 вторая доза...</td>\n",
       "      <td>М</td>\n",
       "      <td>49.0</td>\n",
       "      <td>NaN</td>\n",
       "    </tr>\n",
       "    <tr>\n",
       "      <th>12</th>\n",
       "      <td>2022-12</td>\n",
       "      <td>Уточните даты вакцинации, пожалуйста. Если ваш...</td>\n",
       "      <td>None</td>\n",
       "      <td>NaN</td>\n",
       "      <td>NaN</td>\n",
       "    </tr>\n",
       "    <tr>\n",
       "      <th>13</th>\n",
       "      <td>2022-12</td>\n",
       "      <td>Дополняю и обобщаю:\\n#ревак\\nМоя мама\\nЖ88, ди...</td>\n",
       "      <td>Ж</td>\n",
       "      <td>88.0</td>\n",
       "      <td>665.0</td>\n",
       "    </tr>\n",
       "    <tr>\n",
       "      <th>14</th>\n",
       "      <td>2022-12</td>\n",
       "      <td>Еще дополняю и обобщаю\\n#ревак #назально\\nЖ51,...</td>\n",
       "      <td>Ж</td>\n",
       "      <td>51.0</td>\n",
       "      <td>313.0</td>\n",
       "    </tr>\n",
       "    <tr>\n",
       "      <th>15</th>\n",
       "      <td>2022-11</td>\n",
       "      <td>#назально #ревак\\nЖ37, без хронических. Ковидо...</td>\n",
       "      <td>Ж</td>\n",
       "      <td>37.0</td>\n",
       "      <td>NaN</td>\n",
       "    </tr>\n",
       "    <tr>\n",
       "      <th>16</th>\n",
       "      <td>2022-11</td>\n",
       "      <td>#ревак #назально #спутник #гуммосква\\nЖ50, сег...</td>\n",
       "      <td>Ж</td>\n",
       "      <td>50.0</td>\n",
       "      <td>NaN</td>\n",
       "    </tr>\n",
       "    <tr>\n",
       "      <th>17</th>\n",
       "      <td>2022-11</td>\n",
       "      <td>Ковид19 26.11.22 от заболевших родителей. (Аль...</td>\n",
       "      <td>None</td>\n",
       "      <td>50.0</td>\n",
       "      <td>NaN</td>\n",
       "    </tr>\n",
       "    <tr>\n",
       "      <th>18</th>\n",
       "      <td>2022-11</td>\n",
       "      <td>Ковид19 24.11.2022. (77 лет, не болела, 3 Шота...</td>\n",
       "      <td>None</td>\n",
       "      <td>77.0</td>\n",
       "      <td>NaN</td>\n",
       "    </tr>\n",
       "    <tr>\n",
       "      <th>19</th>\n",
       "      <td>2022-11</td>\n",
       "      <td>Ж39, ревак #назально вчера вечером 20.11.\\nСос...</td>\n",
       "      <td>Ж</td>\n",
       "      <td>39.0</td>\n",
       "      <td>NaN</td>\n",
       "    </tr>\n",
       "  </tbody>\n",
       "</table>\n",
       "</div>"
      ],
      "text/plain": [
       "       date                                            message gender   age  \\\n",
       "0   2022-12  Пол, возраст, наличие хр.заболеваний укажите, ...   None   NaN   \n",
       "1   2022-12  Конвасэл до сих пор не даёт полноценный QR код...   None   NaN   \n",
       "2   2022-12  Народные отчеты о вакцинации\\n\\n⚠️ ТОЛЬКО ПУБЛ...   None   NaN   \n",
       "3   2022-12  Dima32 Данный чат предназначен только для отчё...   None   NaN   \n",
       "4   2022-12  📣 ВЕСТНИК V1V2.ru выпуск #70 от 09.12.2022@09:...   None   NaN   \n",
       "5   2022-12  #назально #ревак #спутник-V\\nМ33. 1 комп.: лег...      М  33.0   \n",
       "6   2022-12  #ревак #назально  первый этап 12.09, второй эт...   None   NaN   \n",
       "7   2022-12  #назально #ревак. Ж35. Хр. Заболевания: полива...      Ж  35.0   \n",
       "8   2022-12  📣 ВЕСТНИК V1V2.ru выпуск #70 от 09.12.2022@09:...   None   NaN   \n",
       "9   2022-12  #ревак #назально\\n11.12.22. Гум, Спутник+Ультр...      Ж  45.0   \n",
       "10  2022-12  #дети\\nМ 13 лет.  спутник м. \\n1я доза 23.10.2...      М  13.0   \n",
       "11  2022-12  #ревак  #назально  #спутник \\nМ 49 вторая доза...      М  49.0   \n",
       "12  2022-12  Уточните даты вакцинации, пожалуйста. Если ваш...   None   NaN   \n",
       "13  2022-12  Дополняю и обобщаю:\\n#ревак\\nМоя мама\\nЖ88, ди...      Ж  88.0   \n",
       "14  2022-12  Еще дополняю и обобщаю\\n#ревак #назально\\nЖ51,...      Ж  51.0   \n",
       "15  2022-11  #назально #ревак\\nЖ37, без хронических. Ковидо...      Ж  37.0   \n",
       "16  2022-11  #ревак #назально #спутник #гуммосква\\nЖ50, сег...      Ж  50.0   \n",
       "17  2022-11  Ковид19 26.11.22 от заболевших родителей. (Аль...   None  50.0   \n",
       "18  2022-11  Ковид19 24.11.2022. (77 лет, не болела, 3 Шота...   None  77.0   \n",
       "19  2022-11  Ж39, ревак #назально вчера вечером 20.11.\\nСос...      Ж  39.0   \n",
       "\n",
       "      BAU  \n",
       "0     NaN  \n",
       "1     NaN  \n",
       "2     NaN  \n",
       "3     NaN  \n",
       "4     NaN  \n",
       "5     NaN  \n",
       "6     NaN  \n",
       "7     NaN  \n",
       "8     NaN  \n",
       "9     NaN  \n",
       "10    NaN  \n",
       "11    NaN  \n",
       "12    NaN  \n",
       "13  665.0  \n",
       "14  313.0  \n",
       "15    NaN  \n",
       "16    NaN  \n",
       "17    NaN  \n",
       "18    NaN  \n",
       "19    NaN  "
      ]
     },
     "execution_count": 42,
     "metadata": {},
     "output_type": "execute_result"
    }
   ],
   "source": [
    "bau_col = []\n",
    "\n",
    "for message in messages['message']:\n",
    "    bau = re.search(pattern_bau, \" \" + message + \" \") \n",
    "    if bau:\n",
    "        bau_col.append(float( f\"{bau[2]}.{bau[3]}\" ))\n",
    "    else:\n",
    "        bau_col.append(None)\n",
    "\n",
    "messages['BAU'] = bau_col    \n",
    "messages.head(20)"
   ]
  },
  {
   "cell_type": "code",
   "execution_count": 43,
   "metadata": {},
   "outputs": [],
   "source": [
    "none_bau = messages['BAU'].isnull().sum()"
   ]
  },
  {
   "cell_type": "code",
   "execution_count": 44,
   "metadata": {
    "vscode": {
     "languageId": "python"
    }
   },
   "outputs": [
    {
     "name": "stdout",
     "output_type": "stream",
     "text": [
      "Информация о количестве антител содержится в 4.17% сообщений (975 сообщений).\n"
     ]
    }
   ],
   "source": [
    "print(f\"Информация о количестве антител содержится в {( 1 - none_bau/len(messages) )*100:.2f}% сообщений ({len(messages) - none_bau} сообщений).\")"
   ]
  },
  {
   "cell_type": "markdown",
   "metadata": {},
   "source": [
    "## Анализ: средний показатель BAU в зависимости от возраста"
   ]
  },
  {
   "cell_type": "code",
   "execution_count": 45,
   "metadata": {
    "vscode": {
     "languageId": "python"
    }
   },
   "outputs": [
    {
     "data": {
      "text/plain": [
       "<BarContainer object of 6 artists>"
      ]
     },
     "execution_count": 45,
     "metadata": {},
     "output_type": "execute_result"
    },
    {
     "data": {
      "image/png": "[encoded data removed]",
      "text/plain": [
       "<Figure size 720x504 with 1 Axes>"
      ]
     },
     "metadata": {
      "needs_background": "light"
     },
     "output_type": "display_data"
    }
   ],
   "source": [
    "fig = plt.figure(figsize=(10,7))\n",
    "\n",
    "split = [10, 20, 30, 40, 50, 60, 100]\n",
    "intervals = [f\"[{split[i]}, {split[i+1]})\" for i in range(len(split)-1)]\n",
    "bau_statistics = [messages.loc[(messages['age'] >= split[i]) & (messages['age'] < split[i+1]) & (~messages['BAU'].isnull()), ['BAU']].mean().values[0] for i in range(len(split)-1) ]\n",
    "\n",
    "plt.bar(intervals, bau_statistics)"
   ]
  }
 ],
 "metadata": {
  "kernelspec": {
   "display_name": "Python 3",
   "language": "python",
   "name": "python3"
  },
  "language_info": {
   "codemirror_mode": {
    "name": "ipython",
    "version": 3
   },
   "file_extension": ".py",
   "mimetype": "text/x-python",
   "name": "python",
   "nbconvert_exporter": "python",
   "pygments_lexer": "ipython3",
   "version": "3.8.3"
  },
  "vscode": {
   "interpreter": {
    "hash": "12dad2409de8e502d3f170514565fee72d02c211320d9822204677777e2c76df"
   }
  }
 },
 "nbformat": 4,
 "nbformat_minor": 4
}
