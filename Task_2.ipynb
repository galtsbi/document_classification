{
 "cells": [
  {
   "cell_type": "code",
   "execution_count": 2,
   "metadata": {},
   "outputs": [],
   "source": [
    "import numpy as np\n",
    "import scipy as sp\n",
    "import matplotlib.pyplot as plt\n",
    "import seaborn as sns\n",
    "\n",
    "%matplotlib inline"
   ]
  },
  {
   "cell_type": "markdown",
   "metadata": {},
   "source": [
    "# 2. Работа с массивами NumPy"
   ]
  },
  {
   "cell_type": "markdown",
   "metadata": {},
   "source": [
    "**N. Все упражнения ниже нужно делать без использования циклов Python**\n",
    "\n",
    "**2.1.** Cоздать вектор\n",
    "\n",
    "$$(2, \\frac{2^2}{2}, \\ldots, \\frac{2^{20}}{20})$$\n",
    "\n",
    "Можно использовать функции [np.arange()](http://docs.scipy.org/doc/numpy/reference/generated/numpy.arange.html), [np.ones()](http://docs.scipy.org/doc/numpy/reference/generated/numpy.ones.html)"
   ]
  },
  {
   "cell_type": "code",
   "execution_count": 48,
   "metadata": {},
   "outputs": [],
   "source": [
    "\"\"\" \n",
    "den (denominator) - ряд чисел в знаменателе: [1, 2, 3, ..., 20]\n",
    "\n",
    "Так как степень двойки в числителе равна числу в знаменателе, создаем массив из 20 двоек \n",
    "и возводим их в степень в соответствии со значением знаменателя из массива den\n",
    "\n",
    "\"\"\"\n",
    "\n",
    "den = np.arange(1,21,1)                          # Массив чисел в знаменателе и степеней двойки\n",
    "vec = np.power((np.ones(20)*2), den) / den       # Возведение в степень и создание вектора"
   ]
  },
  {
   "cell_type": "code",
   "execution_count": 49,
   "metadata": {},
   "outputs": [
    {
     "name": "stdout",
     "output_type": "stream",
     "text": [
      "[2.00000000e+00 2.00000000e+00 2.66666667e+00 4.00000000e+00\n",
      " 6.40000000e+00 1.06666667e+01 1.82857143e+01 3.20000000e+01\n",
      " 5.68888889e+01 1.02400000e+02 1.86181818e+02 3.41333333e+02\n",
      " 6.30153846e+02 1.17028571e+03 2.18453333e+03 4.09600000e+03\n",
      " 7.71011765e+03 1.45635556e+04 2.75941053e+04 5.24288000e+04]\n"
     ]
    }
   ],
   "source": [
    "print(vec)"
   ]
  },
  {
   "cell_type": "markdown",
   "metadata": {},
   "source": [
    "**2.2.** Посчитать:\n",
    "\n",
    "$$\\sum\\limits_{i=0}^{5}{0.1^{3i}0.2^{4i}}$$\n"
   ]
  },
  {
   "cell_type": "code",
   "execution_count": 263,
   "metadata": {},
   "outputs": [],
   "source": [
    "\"\"\" \n",
    "Воспользуемся np.dot() - на вход подаются два вектора, которые перемножаются \n",
    "по правилам матричного умножения (i-й элемент первого вектора умножается \n",
    "на i-ый элемент второго вектора, затем полученные числа суммируются), и \n",
    "получается число, являющееся искомой суммой ряда\n",
    "\n",
    "\"\"\"\n",
    "\n",
    "i = np.arange(0,6,1)\n",
    "result = np.dot(0.1**(3*i), 0.2**(4*i))"
   ]
  },
  {
   "cell_type": "code",
   "execution_count": 264,
   "metadata": {},
   "outputs": [
    {
     "name": "stdout",
     "output_type": "stream",
     "text": [
      "1.00000160000256\n"
     ]
    }
   ],
   "source": [
    "print(result)"
   ]
  },
  {
   "cell_type": "markdown",
   "metadata": {},
   "source": [
    "**2.3.** Создать нулевую матрицe $8 \\times 8$, и заполнить её единицами в шахматном порядке."
   ]
  },
  {
   "cell_type": "code",
   "execution_count": 4,
   "metadata": {},
   "outputs": [
    {
     "name": "stdout",
     "output_type": "stream",
     "text": [
      "[[0. 0. 0. 0. 0. 0. 0. 0.]\n",
      " [1. 0. 1. 0. 1. 0. 1. 0.]\n",
      " [0. 0. 0. 0. 0. 0. 0. 0.]\n",
      " [1. 0. 1. 0. 1. 0. 1. 0.]\n",
      " [0. 0. 0. 0. 0. 0. 0. 0.]\n",
      " [1. 0. 1. 0. 1. 0. 1. 0.]\n",
      " [0. 0. 0. 0. 0. 0. 0. 0.]\n",
      " [1. 0. 1. 0. 1. 0. 1. 0.]]\n"
     ]
    }
   ],
   "source": [
    "matrix = np.zeros((8,8))       # Создаем матрицу нулей размерности 8x8\n",
    "\n",
    "matrix[1::2,::2] = 1           # Заполняем единицами каждую нечетную строку по четным столбцам\n",
    "print(matrix)"
   ]
  },
  {
   "cell_type": "code",
   "execution_count": 5,
   "metadata": {},
   "outputs": [
    {
     "name": "stdout",
     "output_type": "stream",
     "text": [
      "[[0. 1. 0. 1. 0. 1. 0. 1.]\n",
      " [1. 0. 1. 0. 1. 0. 1. 0.]\n",
      " [0. 1. 0. 1. 0. 1. 0. 1.]\n",
      " [1. 0. 1. 0. 1. 0. 1. 0.]\n",
      " [0. 1. 0. 1. 0. 1. 0. 1.]\n",
      " [1. 0. 1. 0. 1. 0. 1. 0.]\n",
      " [0. 1. 0. 1. 0. 1. 0. 1.]\n",
      " [1. 0. 1. 0. 1. 0. 1. 0.]]\n"
     ]
    }
   ],
   "source": [
    "matrix[::2,1::2] = 1           # Заполняем единицами каждый нечетный столбец по четным строкам\n",
    "print(matrix)"
   ]
  },
  {
   "cell_type": "markdown",
   "metadata": {},
   "source": [
    "**2.4.** Есть 5 точек в декартовой системе координат (в виде матрицы $X$ размерностью $5 \\times 2$), сконвертируйте эти точки в полярную систему координат."
   ]
  },
  {
   "cell_type": "markdown",
   "metadata": {},
   "source": [
    "$x=rcos\\varphi$ \\\n",
    "$y=rsin\\varphi$ "
   ]
  },
  {
   "cell_type": "markdown",
   "metadata": {},
   "source": [
    "$r=\\sqrt{x^2+y^2}$ \\\n",
    "$\\varphi=tg{\\frac{y}{x}}$"
   ]
  },
  {
   "cell_type": "code",
   "execution_count": 6,
   "metadata": {},
   "outputs": [
    {
     "name": "stdout",
     "output_type": "stream",
     "text": [
      "[[0.35891649 0.94657651]\n",
      " [0.58505579 0.19438385]\n",
      " [0.39012747 0.57613087]\n",
      " [0.47029623 0.02004176]\n",
      " [0.43833834 0.81477295]]\n"
     ]
    }
   ],
   "source": [
    "X = np.random.random((5, 2))\n",
    "print(X)"
   ]
  },
  {
   "cell_type": "code",
   "execution_count": 7,
   "metadata": {},
   "outputs": [
    {
     "name": "stdout",
     "output_type": "stream",
     "text": [
      "[0.35891649 0.58505579 0.39012747 0.47029623 0.43833834]\n",
      "[0.94657651 0.19438385 0.57613087 0.02004176 0.81477295]\n"
     ]
    }
   ],
   "source": [
    "\"\"\"  \n",
    "Транспонируем матрицу так, чтобы в первой строке были координаты всех точек по оси X, \n",
    "а во второй строке - координаты по оси Y    \n",
    "\"\"\"\n",
    "X0 = (X.T)[0]\n",
    "X1 = (X.T)[1]\n",
    "print(X0)\n",
    "print(X1)"
   ]
  },
  {
   "cell_type": "code",
   "execution_count": 8,
   "metadata": {},
   "outputs": [],
   "source": [
    "\"\"\"\n",
    "Посчитаем соответствующие значения радиус-векторов и углов phi\n",
    "\"\"\"\n",
    "r_X = np.array([np.sqrt(X0**2+X1**2)])\n",
    "phi_X = np.array([np.tan(X1/X0)])"
   ]
  },
  {
   "cell_type": "code",
   "execution_count": 9,
   "metadata": {},
   "outputs": [],
   "source": [
    "r_X = r_X.T                                    # Преобразуем строки в векторы \n",
    "phi_X = phi_X.T"
   ]
  },
  {
   "cell_type": "code",
   "execution_count": 10,
   "metadata": {},
   "outputs": [
    {
     "name": "stdout",
     "output_type": "stream",
     "text": [
      "[[ 1.01233795 -0.55186743]\n",
      " [ 0.61650252  0.345039  ]\n",
      " [ 0.6957918  10.60463695]\n",
      " [ 0.47072308  0.04264101]\n",
      " [ 0.92520023 -3.37593442]]\n"
     ]
    }
   ],
   "source": [
    "X_new = np.concatenate((r_X, phi_X), axis=1)   # Объединяем две матрицы\n",
    "print(X_new)"
   ]
  },
  {
   "cell_type": "markdown",
   "metadata": {},
   "source": [
    "**2.5.** Найдите индексы максимального элемента в случайной матрице $10 \\times 10$.\n",
    "\n",
    "Cм. [np.argmax()](http://docs.scipy.org/doc/numpy/reference/generated/numpy.argmax.html)."
   ]
  },
  {
   "cell_type": "code",
   "execution_count": 15,
   "metadata": {},
   "outputs": [],
   "source": [
    "X = np.random.random((10,10))"
   ]
  },
  {
   "cell_type": "code",
   "execution_count": 16,
   "metadata": {},
   "outputs": [
    {
     "name": "stdout",
     "output_type": "stream",
     "text": [
      "[[0.98956732 0.0446849  0.43256751 0.45088429 0.61241211 0.39806295\n",
      "  0.25690356 0.92361003 0.31288826 0.53124246]\n",
      " [0.22256171 0.13199522 0.41118527 0.84534554 0.48091289 0.18627439\n",
      "  0.62190464 0.0758235  0.57974447 0.60498929]\n",
      " [0.42698179 0.60380169 0.14307379 0.5533518  0.0105067  0.94358042\n",
      "  0.90950092 0.90623918 0.46633605 0.18264423]\n",
      " [0.76123263 0.06021665 0.89472546 0.80192957 0.63170121 0.58451406\n",
      "  0.09593751 0.03614602 0.86004311 0.4970224 ]\n",
      " [0.85229863 0.62001069 0.57455946 0.90880375 0.31181843 0.9135288\n",
      "  0.94273715 0.24764677 0.27743964 0.49974467]\n",
      " [0.02638462 0.59922627 0.47740863 0.465358   0.14043933 0.7675191\n",
      "  0.28152945 0.82123204 0.84760782 0.50050184]\n",
      " [0.01807578 0.55221226 0.13522744 0.08273015 0.19333138 0.50697752\n",
      "  0.6183842  0.49090676 0.99024794 0.63333878]\n",
      " [0.01576735 0.16844168 0.1755697  0.89041648 0.53359208 0.30045784\n",
      "  0.80301156 0.90871291 0.64830894 0.38323704]\n",
      " [0.55161101 0.92194269 0.38967177 0.32973481 0.64580272 0.71863647\n",
      "  0.69413901 0.50162402 0.40009762 0.2146116 ]\n",
      " [0.47291936 0.98869411 0.76615544 0.03603364 0.0913522  0.96743057\n",
      "  0.58576532 0.67133615 0.2258883  0.67768744]]\n"
     ]
    }
   ],
   "source": [
    "print(X)    # Вывод матрицы"
   ]
  },
  {
   "cell_type": "code",
   "execution_count": 17,
   "metadata": {},
   "outputs": [
    {
     "name": "stdout",
     "output_type": "stream",
     "text": [
      "68\n"
     ]
    }
   ],
   "source": [
    "print(np.argmax(X))     # Вывод индекса максимального элемента"
   ]
  },
  {
   "cell_type": "code",
   "execution_count": 18,
   "metadata": {},
   "outputs": [
    {
     "name": "stdout",
     "output_type": "stream",
     "text": [
      "X[6][8] =  0.9902479361047783\n"
     ]
    }
   ],
   "source": [
    "\"\"\"  \n",
    "Номер строки будем находить как целую часть от деления индекса (argmax) на n (n=10),\n",
    "а номер столбца как остаток от деления на n\n",
    "\"\"\"\n",
    "\n",
    "row, col = [np.argmax(X)//len(X), np.argmax(X)%len(X)]\n",
    "print('X[{0}][{1}] = '.format(row,col), X[row][col])"
   ]
  },
  {
   "cell_type": "markdown",
   "metadata": {},
   "source": [
    "**2.6.** Есть 10 точек ($X$) и ещё одна ($y$). Найти в $X$ ближайшую к $y$ точку."
   ]
  },
  {
   "cell_type": "markdown",
   "metadata": {},
   "source": [
    "Расстояние между двумя точками определяется по формуле:\n",
    "$|AB| = \\sqrt{(x_A-x_B)^2+(y_A-y_B)^2}$"
   ]
  },
  {
   "cell_type": "code",
   "execution_count": 19,
   "metadata": {},
   "outputs": [],
   "source": [
    "X = np.random.random((10, 2))\n",
    "y = np.random.random((1, 2))"
   ]
  },
  {
   "cell_type": "code",
   "execution_count": 20,
   "metadata": {},
   "outputs": [
    {
     "name": "stdout",
     "output_type": "stream",
     "text": [
      "[[0.71576746 0.60523358]\n",
      " [0.74403705 0.03683217]\n",
      " [0.13650312 0.27277139]\n",
      " [0.54702381 0.79400036]\n",
      " [0.22837329 0.41636974]\n",
      " [0.35976318 0.81635112]\n",
      " [0.67387345 0.10861282]\n",
      " [0.31565936 0.42049834]\n",
      " [0.45853442 0.00558742]\n",
      " [0.10125564 0.10747219]]\n",
      "[[0.41969763 0.5984674 ]]\n"
     ]
    }
   ],
   "source": [
    "print(X)\n",
    "print(y)"
   ]
  },
  {
   "cell_type": "code",
   "execution_count": 21,
   "metadata": {},
   "outputs": [
    {
     "name": "stdout",
     "output_type": "stream",
     "text": [
      "[0.71576746 0.74403705 0.13650312 0.54702381 0.22837329 0.35976318\n",
      " 0.67387345 0.31565936 0.45853442 0.10125564]\n",
      "[0.60523358 0.03683217 0.27277139 0.79400036 0.41636974 0.81635112\n",
      " 0.10861282 0.42049834 0.00558742 0.10747219]\n"
     ]
    }
   ],
   "source": [
    "\"\"\"  \n",
    "Транспонируем матрицу так, чтобы в первой строке были координаты всех точек по оси X, \n",
    "а во второй строке - координаты по оси Y    \n",
    "\"\"\"\n",
    "X0 = (X.T)[0]\n",
    "X1 = (X.T)[1]\n",
    "\n",
    "print(X0)\n",
    "print(X1)"
   ]
  },
  {
   "cell_type": "code",
   "execution_count": 22,
   "metadata": {},
   "outputs": [
    {
     "name": "stdout",
     "output_type": "stream",
     "text": [
      "[0.08765735 0.10519606 0.08019913 0.01621196 0.036605   0.00359214\n",
      " 0.06460535 0.01082396 0.0015083  0.1014053 ]\n",
      "[4.57811665e-05 3.15434133e-01 1.06077890e-01 3.82331380e-02\n",
      " 3.31595570e-02 4.74733132e-02 2.39957512e-01 3.16729872e-02\n",
      " 3.51506667e-01 2.41076300e-01]\n"
     ]
    }
   ],
   "source": [
    "\"\"\"\n",
    "Посчитаем квадраты разницы между координатами каждой точки массива X и точки y по осям\n",
    "\"\"\"\n",
    "X_dif = (X0 - y[0][0])**2\n",
    "Y_dif = (X1 - y[0][1])**2\n",
    "\n",
    "print(X_dif)\n",
    "print(Y_dif)"
   ]
  },
  {
   "cell_type": "code",
   "execution_count": 23,
   "metadata": {},
   "outputs": [
    {
     "name": "stdout",
     "output_type": "stream",
     "text": [
      "[0.29614714 0.64856009 0.43159822 0.23333473 0.26412982 0.22597666\n",
      " 0.55187214 0.20614788 0.59415062 0.58521928]\n"
     ]
    }
   ],
   "source": [
    "comp = np.sqrt(X_dif+Y_dif)  # Массив расстояний каждой точки из X от точки y\n",
    "print(comp)"
   ]
  },
  {
   "cell_type": "code",
   "execution_count": 24,
   "metadata": {},
   "outputs": [
    {
     "name": "stdout",
     "output_type": "stream",
     "text": [
      "[0.31565936 0.42049834]\n"
     ]
    }
   ],
   "source": [
    "indx = np.argmin(comp)      # Минимальное значение из массива расстояний будет соответствовать ближайшей точке к y\n",
    "print(X[indx])"
   ]
  },
  {
   "cell_type": "markdown",
   "metadata": {},
   "source": [
    "**2.7.** Дана функция:\n",
    "\n",
    "$$\n",
    " \\begin{cases}\n",
    "    x^2 + 2x + 6, & x < 0  \\\\\n",
    "    x + 6, & 0 \\le x \\le 2 \\\\\n",
    "    x^2 + 4x - 4, & x \\ge 2\n",
    " \\end{cases}\n",
    "$$\n",
    "\n",
    "Постройте массив из её значений на  $-3 \\le x \\le 3$."
   ]
  },
  {
   "cell_type": "code",
   "execution_count": 25,
   "metadata": {},
   "outputs": [],
   "source": [
    "\"\"\"\n",
    "Определим три вектора интервалов, проведем над ними необходимые операции и затем объединим\n",
    "\n",
    "\"\"\"\n",
    "k = 0.005                               # Длина шага\n",
    "X0 = np.arange(-3, 0, k) \n",
    "X1 = np.arange(0, 2, k) \n",
    "X2 = np.arange(2, 3+k, k) \n",
    "\n",
    "X = np.concatenate((X0,X1,X2))"
   ]
  },
  {
   "cell_type": "code",
   "execution_count": 26,
   "metadata": {},
   "outputs": [],
   "source": [
    "X0 = X0**2+2*X0+6\n",
    "X1 = X1 + 6\n",
    "X2 = X2**2+4*X2-4"
   ]
  },
  {
   "cell_type": "code",
   "execution_count": 27,
   "metadata": {},
   "outputs": [],
   "source": [
    "F = np.concatenate((X0,X1,X2))          # Вектор значений функции"
   ]
  },
  {
   "cell_type": "code",
   "execution_count": 28,
   "metadata": {},
   "outputs": [
    {
     "name": "stdout",
     "output_type": "stream",
     "text": [
      "[ 9.        8.980025  8.9601   ... 16.9001   16.950025 17.      ]\n"
     ]
    }
   ],
   "source": [
    "print(F)"
   ]
  },
  {
   "cell_type": "code",
   "execution_count": 29,
   "metadata": {},
   "outputs": [
    {
     "data": {
      "text/plain": [
       "[<matplotlib.lines.Line2D at 0x1f5a68b3d90>]"
      ]
     },
     "execution_count": 29,
     "metadata": {},
     "output_type": "execute_result"
    },
    {
     "data": {
      "image/png": "[encoded data removed]",
      "text/plain": [
       "<Figure size 432x288 with 1 Axes>"
      ]
     },
     "metadata": {
      "needs_background": "light"
     },
     "output_type": "display_data"
    }
   ],
   "source": [
    "plt.plot(X,F)"
   ]
  },
  {
   "cell_type": "markdown",
   "metadata": {},
   "source": [
    "**2.8.** Из каждого элемента матрицы вычесть среднее арифметическое от всех элементов в соответствующей строке (после чего среднее значение каждой строки должно равняться нулю).\n",
    "\n",
    "Cм. [np.mean()](http://docs.scipy.org/doc/numpy/reference/generated/numpy.mean.html)."
   ]
  },
  {
   "cell_type": "code",
   "execution_count": 51,
   "metadata": {},
   "outputs": [
    {
     "name": "stdout",
     "output_type": "stream",
     "text": [
      "[[0.93239864 0.87593796 0.5110714  0.5827544  0.93625087 0.95137293\n",
      "  0.71486799 0.56954745 0.76070254 0.26897882]\n",
      " [0.15864472 0.6479806  0.53898444 0.65796457 0.35229241 0.24549597\n",
      "  0.15562134 0.73887165 0.43879847 0.29238887]\n",
      " [0.14776678 0.22157147 0.4988883  0.56060844 0.08656998 0.78421416\n",
      "  0.48271696 0.65356872 0.91698141 0.89742305]\n",
      " [0.90947313 0.3358258  0.50342678 0.75472463 0.59186602 0.1151433\n",
      "  0.56778944 0.81029745 0.16856524 0.69498835]\n",
      " [0.34580313 0.17725413 0.99989243 0.91489292 0.59877938 0.78317254\n",
      "  0.4696939  0.3397918  0.18630694 0.14246712]\n",
      " [0.9923924  0.03835941 0.48340558 0.21185911 0.59978784 0.44430965\n",
      "  0.9274486  0.87539406 0.85018147 0.86524961]\n",
      " [0.89257154 0.23856791 0.37211415 0.98833265 0.73902527 0.01822683\n",
      "  0.81162749 0.16459744 0.80603768 0.92139095]\n",
      " [0.72287266 0.67731025 0.24381748 0.22695902 0.73004802 0.42893626\n",
      "  0.99363129 0.91098693 0.08152516 0.85637077]\n",
      " [0.90442365 0.66637758 0.85113869 0.63321069 0.64352293 0.70959166\n",
      "  0.33079803 0.3293156  0.0223018  0.49197825]\n",
      " [0.07246432 0.68873086 0.4380284  0.04245189 0.38924189 0.50336214\n",
      "  0.52029465 0.71629408 0.92472324 0.9733898 ]]\n"
     ]
    }
   ],
   "source": [
    "X = np.random.random((10, 10))\n",
    "print(X)"
   ]
  },
  {
   "cell_type": "code",
   "execution_count": 52,
   "metadata": {},
   "outputs": [],
   "source": [
    "means = np.array([np.mean(X, axis=1)])    # Массив средних значений по строкам\n",
    "X -= means.T                              # Вычитание среднего значения строки из каждого элемента соответствующей строки"
   ]
  },
  {
   "cell_type": "code",
   "execution_count": 54,
   "metadata": {},
   "outputs": [
    {
     "name": "stdout",
     "output_type": "stream",
     "text": [
      "[[0.7103883  0.4227043  0.52503093 0.54521001 0.49580543 0.62883877\n",
      "  0.59524919 0.58724578 0.55826589 0.52689813]]\n"
     ]
    }
   ],
   "source": [
    "print(means)"
   ]
  },
  {
   "cell_type": "code",
   "execution_count": 53,
   "metadata": {},
   "outputs": [
    {
     "name": "stdout",
     "output_type": "stream",
     "text": [
      "[[ 0.22201034  0.16554966 -0.1993169  -0.1276339   0.22586257  0.24098463\n",
      "   0.00447969 -0.14084084  0.05031424 -0.44140948]\n",
      " [-0.26405959  0.2252763   0.11628014  0.23526026 -0.07041189 -0.17720834\n",
      "  -0.26708296  0.31616734  0.01609417 -0.13031543]\n",
      " [-0.37726415 -0.30345946 -0.02614263  0.03557751 -0.43846095  0.25918324\n",
      "  -0.04231397  0.12853779  0.39195049  0.37239213]\n",
      " [ 0.36426312 -0.20938421 -0.04178324  0.20951461  0.046656   -0.43006672\n",
      "   0.02257942  0.26508744 -0.37664477  0.14977834]\n",
      " [-0.1500023  -0.3185513   0.504087    0.41908749  0.10297395  0.28736711\n",
      "  -0.02611153 -0.15601363 -0.30949849 -0.35333831]\n",
      " [ 0.36355363 -0.59047936 -0.14543319 -0.41697967 -0.02905093 -0.18452912\n",
      "   0.29860983  0.24655528  0.2213427   0.23641083]\n",
      " [ 0.29732235 -0.35668128 -0.22313504  0.39308346  0.14377608 -0.57702236\n",
      "   0.2163783  -0.43065176  0.21078849  0.32614176]\n",
      " [ 0.13562688  0.09006447 -0.3434283  -0.36028676  0.14280224 -0.15830953\n",
      "   0.4063855   0.32374114 -0.50572063  0.26912499]\n",
      " [ 0.34615776  0.10811169  0.2928728   0.0749448   0.08525705  0.15132577\n",
      "  -0.22746786 -0.22895029 -0.53596408 -0.06628764]\n",
      " [-0.4544338   0.16183273 -0.08886973 -0.48444624 -0.13765623 -0.02353599\n",
      "  -0.00660347  0.18939595  0.39782511  0.44649167]]\n"
     ]
    }
   ],
   "source": [
    "print(X)"
   ]
  },
  {
   "cell_type": "code",
   "execution_count": 32,
   "metadata": {},
   "outputs": [
    {
     "name": "stdout",
     "output_type": "stream",
     "text": [
      "0.0\n",
      "0.0\n",
      "0.0\n",
      "0.0\n",
      "0.0\n",
      "0.0\n",
      "0.0\n",
      "0.0\n",
      "0.0\n",
      "0.0\n"
     ]
    }
   ],
   "source": [
    "# Проверим средние значения по строкам \n",
    "for i in range(len(X)):\n",
    "    print(abs(round(np.mean(X[i]))))"
   ]
  },
  {
   "cell_type": "markdown",
   "metadata": {},
   "source": [
    "**2.9.** Есть массив из 1000 чисел, полученных из генератора случайных чисел, имеющий нормальное распределение. Посчитайте выборочное среднее и выборочную дисперсию. "
   ]
  },
  {
   "cell_type": "code",
   "execution_count": 33,
   "metadata": {},
   "outputs": [],
   "source": [
    "X = np.random.normal(loc=5, scale=2., size=1000)"
   ]
  },
  {
   "cell_type": "code",
   "execution_count": null,
   "metadata": {},
   "outputs": [],
   "source": [
    "\"\"\"\n",
    "Как видно, полученные значения соотносятся с параметрами, заданными в определении массива, а именно:\n",
    "    loc = 5    <->  E примерно равно 5\n",
    "    scale = 2  <->  sqrt(D) примерно равен 2   \n",
    "\"\"\""
   ]
  },
  {
   "cell_type": "code",
   "execution_count": 35,
   "metadata": {},
   "outputs": [
    {
     "name": "stdout",
     "output_type": "stream",
     "text": [
      "4.995569123373938\n"
     ]
    }
   ],
   "source": [
    "E = np.mean(X)\n",
    "print(E)"
   ]
  },
  {
   "cell_type": "code",
   "execution_count": 36,
   "metadata": {},
   "outputs": [
    {
     "name": "stdout",
     "output_type": "stream",
     "text": [
      "3.9008832886581084\n"
     ]
    }
   ],
   "source": [
    "D = np.std(X, ddof=1)**2\n",
    "print(D)"
   ]
  },
  {
   "cell_type": "markdown",
   "metadata": {},
   "source": [
    "**2.10.** Создать матрицу (NB. БЕЗ ЦИКЛОВ И ИЗМЕНЕНИЯ ОТДЕЛЬНЫХ ЭЛЕМЕНТОВ):\n",
    "\n",
    "$$\n",
    "\\begin{pmatrix}\n",
    "0 & 1 & 2 & 3 & 4 \\\\\n",
    "1 & 2 & 3 & 4 & 0 \\\\\n",
    "2 & 3 & 4 & 0 & 1 \\\\\n",
    "3 & 4 & 0 & 1 & 2 \\\\\n",
    "4 & 0 & 1 & 2 & 3\n",
    "\\end{pmatrix}\n",
    "$$"
   ]
  },
  {
   "cell_type": "code",
   "execution_count": 37,
   "metadata": {},
   "outputs": [
    {
     "name": "stdout",
     "output_type": "stream",
     "text": [
      "[[0 1 2 3 4]\n",
      " [1 2 3 4 0]\n",
      " [2 3 4 0 1]\n",
      " [3 4 0 1 2]\n",
      " [4 0 1 2 3]]\n"
     ]
    }
   ],
   "source": [
    "\"\"\"\n",
    "Для того, чтобы получить заданную матрицу, создадим \n",
    "вектор-столбец и вектор-строку чисел от 0 до 4, затем\n",
    "сложим эти векторы и возьмем остаток от деления получившихся чисел на 5\n",
    "\n",
    "\"\"\"\n",
    "row = np.array([[0,1,2,3,4]])\n",
    "vec = row.T\n",
    "\n",
    "matrix = (row + vec) % 5\n",
    "print(matrix)"
   ]
  },
  {
   "cell_type": "markdown",
   "metadata": {},
   "source": [
    "**2.11.** Есть следующий алгоритм семплинирования, на вход функции подается вектор из целых положительных чисел и число семплов."
   ]
  },
  {
   "cell_type": "code",
   "execution_count": 38,
   "metadata": {},
   "outputs": [],
   "source": [
    "import time"
   ]
  },
  {
   "cell_type": "code",
   "execution_count": 39,
   "metadata": {},
   "outputs": [],
   "source": [
    "def sample(x, c):\n",
    "    assert len(x) > 0\n",
    "    \n",
    "    s = np.sum(x)\n",
    "    res = []\n",
    "    for _ in range(c):\n",
    "        val = s * np.random.random()\n",
    "        cur, idx = 0, 0        \n",
    "        while cur + x[idx] <= val:\n",
    "            cur += x[idx]\n",
    "            idx += 1   \n",
    "        res.append(idx)\n",
    "    return res"
   ]
  },
  {
   "cell_type": "code",
   "execution_count": 40,
   "metadata": {},
   "outputs": [
    {
     "data": {
      "text/plain": [
       "[4, 0, 0, 4, 0]"
      ]
     },
     "execution_count": 40,
     "metadata": {},
     "output_type": "execute_result"
    }
   ],
   "source": [
    "sample([50, 3, 1, 7, 20], 5)  "
   ]
  },
  {
   "cell_type": "markdown",
   "metadata": {},
   "source": [
    "Реализуйте данный алгоритм более оптимальным способом, без использования циклов."
   ]
  },
  {
   "cell_type": "code",
   "execution_count": 41,
   "metadata": {},
   "outputs": [],
   "source": [
    "def sample1(x, c):\n",
    "    assert len(x) > 0\n",
    "\n",
    "    s = np.sum(x)\n",
    "    \n",
    "    Val = s*np.random.random((1,c))          # Вектор рандомных значений\n",
    "    print('vals: ', Val[0])\n",
    "\n",
    "    m = np.tri(len(x)).T                     # Определим верхнетреугольную матрицу единиц \n",
    "    \n",
    "    r = np.dot(x,m)                          # Для того, чтобы создать вектор сумм по элементам, \n",
    "    print('sums: ', r)                       # умножим исходный вектор x на матрицу m\n",
    "    \n",
    "    k = r - Val.T                            # Получим вектор разницы значений сумм и рандомных значений val\n",
    "    \n",
    "    k[k < 0] = 1e18                          # Заменим все отрицательные элементы на очень большое число \n",
    "    k = k * (-1)                             # Умножим матрицу на -1\n",
    "     \n",
    "    res = np.argmax(k, axis=1)               # Найдем индексы максимальных значений по строкам\n",
    "                                             # (то есть в нашем случае - минимальных по модулю отрицательных чисел)\n",
    "                                             # Индексы этих значений и будут искомыми индексами,\n",
    "                                             # так как они указывают на индекс первого вхождения положительного числа\n",
    "                                             # в строку рассматриваемой нами матрицы (отражающую разницу в значениях \n",
    "                                             # сумм и val)\n",
    "\n",
    "    return res"
   ]
  },
  {
   "cell_type": "code",
   "execution_count": 42,
   "metadata": {},
   "outputs": [
    {
     "name": "stdout",
     "output_type": "stream",
     "text": [
      "vals:  [15.88874006 21.27474044 73.48381797 16.72765559  0.80420744]\n",
      "sums:  [50. 53. 54. 61. 81.]\n"
     ]
    },
    {
     "data": {
      "text/plain": [
       "array([0, 0, 4, 0, 0], dtype=int64)"
      ]
     },
     "execution_count": 42,
     "metadata": {},
     "output_type": "execute_result"
    }
   ],
   "source": [
    "sample1([50, 3, 1, 7, 20], 5)  "
   ]
  }
 ],
 "metadata": {
  "kernelspec": {
   "display_name": "Python 3",
   "language": "python",
   "name": "python3"
  },
  "language_info": {
   "codemirror_mode": {
    "name": "ipython",
    "version": 3
   },
   "file_extension": ".py",
   "mimetype": "text/x-python",
   "name": "python",
   "nbconvert_exporter": "python",
   "pygments_lexer": "ipython3",
   "version": "3.8.3"
  },
  "vscode": {
   "interpreter": {
    "hash": "916dbcbb3f70747c44a77c7bcd40155683ae19c65e1c03b4aa3499c5328201f1"
   }
  }
 },
 "nbformat": 4,
 "nbformat_minor": 4
}
